{
 "cells": [
  {
   "cell_type": "markdown",
   "metadata": {},
   "source": [
    "# Machine Learning Exercise 8 - Anomaly Detection & Recommender Systems"
   ]
  },
  {
   "cell_type": "markdown",
   "metadata": {},
   "source": [
    "This notebook covers a Python-based solution for the eigth programming exercise of the machine learning class on Coursera.  Please refer to the [exercise text](https://github.com/jdwittenauer/ipython-notebooks/blob/master/exercises/ML/ex8.pdf) for detailed descriptions and equations."
   ]
  },
  {
   "cell_type": "markdown",
   "metadata": {},
   "source": [
    "In this exercise, we'll implement an anomaly detection algorithm using a Gaussian model and apply it to detect failing servers on a network.  We'll also see how to build a recommendation system using collaborative filtering and apply it to a movie recommendations data set."
   ]
  },
  {
   "cell_type": "markdown",
   "metadata": {},
   "source": [
    "## Anomaly detection"
   ]
  },
  {
   "cell_type": "markdown",
   "metadata": {},
   "source": [
    "Our first task is to use a Gaussian model to detect if an unlabeled example from a data set should be considered anomalus.  We have a simple 2-dimensional data set to start off with to help visualize what the algorithm is doing.  Let's pull in and plot the data."
   ]
  },
  {
   "cell_type": "code",
   "execution_count": 1,
   "metadata": {
    "collapsed": true
   },
   "outputs": [],
   "source": [
    "import numpy as np\n",
    "import pandas as pd\n",
    "import matplotlib.pyplot as plt\n",
    "import seaborn as sb\n",
    "from scipy.io import loadmat\n",
    "%matplotlib inline"
   ]
  },
  {
   "cell_type": "code",
   "execution_count": 2,
   "metadata": {},
   "outputs": [
    {
     "data": {
      "text/plain": [
       "(307, 2)"
      ]
     },
     "execution_count": 2,
     "metadata": {},
     "output_type": "execute_result"
    }
   ],
   "source": [
    "data = loadmat('data/ex8data1.mat')\n",
    "X = data['X']\n",
    "X.shape"
   ]
  },
  {
   "cell_type": "code",
   "execution_count": 3,
   "metadata": {},
   "outputs": [
    {
     "data": {
      "text/plain": [
       "<matplotlib.collections.PathCollection at 0xbe767b8>"
      ]
     },
     "execution_count": 3,
     "metadata": {},
     "output_type": "execute_result"
    },
    {
     "data": {
      "image/png": "[encoded data removed]",
      "text/plain": [
       "<matplotlib.figure.Figure at 0xbe767f0>"
      ]
     },
     "metadata": {},
     "output_type": "display_data"
    }
   ],
   "source": [
    "fig, ax = plt.subplots(figsize=(12,8))\n",
    "ax.scatter(X[:,0], X[:,1])"
   ]
  },
  {
   "cell_type": "markdown",
   "metadata": {},
   "source": [
    "It appears that there's a pretty tight cluster in the center with several values further out away from the cluser.  In this simple example, these could be considered anomalies.  To find out, we're tasking with estimating a gaussian distribution for each feature in the data.  To do this we'll create a function that returns the mean and variance for each feature."
   ]
  },
  {
   "cell_type": "code",
   "execution_count": 4,
   "metadata": {
    "collapsed": true
   },
   "outputs": [],
   "source": [
    "def estimate_gaussian(X):\n",
    "    mu = X.mean(axis=0)\n",
    "    sigma = X.var(axis=0)\n",
    "    \n",
    "    return mu, sigma"
   ]
  },
  {
   "cell_type": "code",
   "execution_count": 5,
   "metadata": {},
   "outputs": [
    {
     "data": {
      "text/plain": [
       "(array([ 14.11222578,  14.99771051]), array([ 1.83263141,  1.70974533]))"
      ]
     },
     "execution_count": 5,
     "metadata": {},
     "output_type": "execute_result"
    }
   ],
   "source": [
    "mu, sigma = estimate_gaussian(X)\n",
    "mu, sigma"
   ]
  },
  {
   "cell_type": "markdown",
   "metadata": {},
   "source": [
    "Now that we have our model parameters, we need to determine a probability threshold which indicates that an example should be considered an anomaly.  To do this, we need to use a set of labeled validation data (where the true anomalies have been marked as such) and test the model's performance at identifying those anaomalies given different threshold values."
   ]
  },
  {
   "cell_type": "code",
   "execution_count": 6,
   "metadata": {},
   "outputs": [
    {
     "data": {
      "text/plain": [
       "((307, 2), (307, 1))"
      ]
     },
     "execution_count": 6,
     "metadata": {},
     "output_type": "execute_result"
    }
   ],
   "source": [
    "Xval = data['Xval']\n",
    "yval = data['yval']\n",
    "\n",
    "Xval.shape, yval.shape"
   ]
  },
  {
   "cell_type": "markdown",
   "metadata": {},
   "source": [
    "We also need a way to calculate the probability that a data point belongs to a normal distribution.  Fortunately SciPy has this built-in."
   ]
  },
  {
   "cell_type": "code",
   "execution_count": 7,
   "metadata": {},
   "outputs": [
    {
     "data": {
      "text/plain": [
       "0.1935875044615038"
      ]
     },
     "execution_count": 7,
     "metadata": {},
     "output_type": "execute_result"
    }
   ],
   "source": [
    "from scipy import stats\n",
    "dist = stats.norm(mu[0], sigma[0])\n",
    "dist.pdf(15)"
   ]
  },
  {
   "cell_type": "markdown",
   "metadata": {},
   "source": [
    "We can also pass in an array to the probability density function and get the probability density at every point in the data set."
   ]
  },
  {
   "cell_type": "code",
   "execution_count": 8,
   "metadata": {},
   "outputs": [
    {
     "data": {
      "text/plain": [
       "array([ 0.183842  ,  0.20221694,  0.21746136,  0.19778763,  0.20858956,\n",
       "        0.21652359,  0.16991291,  0.15123542,  0.1163989 ,  0.1594734 ,\n",
       "        0.21716057,  0.21760472,  0.20141857,  0.20157497,  0.21711385,\n",
       "        0.21758775,  0.21695576,  0.2138258 ,  0.21057069,  0.1173018 ,\n",
       "        0.20765108,  0.21717452,  0.19510663,  0.21702152,  0.17429399,\n",
       "        0.15413455,  0.21000109,  0.20223586,  0.21031898,  0.21313426,\n",
       "        0.16158946,  0.2170794 ,  0.17825767,  0.17414633,  0.1264951 ,\n",
       "        0.19723662,  0.14538809,  0.21766361,  0.21191386,  0.21729442,\n",
       "        0.21238912,  0.18799417,  0.21259798,  0.21752767,  0.20616968,\n",
       "        0.21520366,  0.1280081 ,  0.21768113,  0.21539967,  0.16913173])"
      ]
     },
     "execution_count": 8,
     "metadata": {},
     "output_type": "execute_result"
    }
   ],
   "source": [
    "dist.pdf(X[:,0])[0:50]"
   ]
  },
  {
   "cell_type": "markdown",
   "metadata": {},
   "source": [
    "Let's compute and save the probability density of each of the values in our data set given the gaussian model parameters we calculated above."
   ]
  },
  {
   "cell_type": "code",
   "execution_count": 9,
   "metadata": {},
   "outputs": [
    {
     "data": {
      "text/plain": [
       "(307, 2)"
      ]
     },
     "execution_count": 9,
     "metadata": {},
     "output_type": "execute_result"
    }
   ],
   "source": [
    "p = np.zeros((X.shape[0], X.shape[1]))\n",
    "p[:,0] = stats.norm(mu[0], sigma[0]).pdf(X[:,0])\n",
    "p[:,1] = stats.norm(mu[1], sigma[1]).pdf(X[:,1])\n",
    "\n",
    "p.shape"
   ]
  },
  {
   "cell_type": "markdown",
   "metadata": {},
   "source": [
    "We also need to do this for the validation set (using the same model parameters).  We'll use these probabilities combined with the true label to determine the optimal probability threshold to assign data points as anomalies."
   ]
  },
  {
   "cell_type": "code",
   "execution_count": 10,
   "metadata": {},
   "outputs": [
    {
     "data": {
      "text/plain": [
       "(307, 2)"
      ]
     },
     "execution_count": 10,
     "metadata": {},
     "output_type": "execute_result"
    }
   ],
   "source": [
    "pval = np.zeros((Xval.shape[0], Xval.shape[1]))\n",
    "pval[:,0] = stats.norm(mu[0], sigma[0]).pdf(Xval[:,0])\n",
    "pval[:,1] = stats.norm(mu[1], sigma[1]).pdf(Xval[:,1])\n",
    "\n",
    "pval.shape"
   ]
  },
  {
   "cell_type": "markdown",
   "metadata": {},
   "source": [
    "Next, we need a function that finds the best threshold value given the probability density values and true labels.  To do this we'll calculate the F1 score for varying values of epsilon.  F1 is a function of the number of true positives, false positives, and false negatives.  The equations are in the exercise text."
   ]
  },
  {
   "cell_type": "code",
   "execution_count": 11,
   "metadata": {
    "collapsed": true
   },
   "outputs": [],
   "source": [
    "def select_threshold(pval, yval):\n",
    "    best_epsilon = 0\n",
    "    best_f1 = 0\n",
    "    f1 = 0\n",
    "    \n",
    "    step = (pval.max() - pval.min()) / 1000\n",
    "    \n",
    "    for epsilon in np.arange(pval.min(), pval.max(), step):\n",
    "        preds = pval < epsilon\n",
    "        \n",
    "        tp = np.sum(np.logical_and(preds == 1, yval == 1)).astype(float)\n",
    "        fp = np.sum(np.logical_and(preds == 1, yval == 0)).astype(float)\n",
    "        fn = np.sum(np.logical_and(preds == 0, yval == 1)).astype(float)\n",
    "        \n",
    "        precision = tp / (tp + fp)\n",
    "        recall = tp / (tp + fn)\n",
    "        f1 = (2 * precision * recall) / (precision + recall)\n",
    "        \n",
    "        if f1 > best_f1:\n",
    "            best_f1 = f1\n",
    "            best_epsilon = epsilon\n",
    "    \n",
    "    return best_epsilon, best_f1"
   ]
  },
  {
   "cell_type": "code",
   "execution_count": 12,
   "metadata": {},
   "outputs": [
    {
     "name": "stderr",
     "output_type": "stream",
     "text": [
      "D:\\Anaconda3\\lib\\site-packages\\ipykernel_launcher.py:15: RuntimeWarning: invalid value encountered in double_scalars\n",
      "  from ipykernel import kernelapp as app\n"
     ]
    },
    {
     "data": {
      "text/plain": [
       "(0.0095667060059568421, 0.7142857142857143)"
      ]
     },
     "execution_count": 12,
     "metadata": {},
     "output_type": "execute_result"
    }
   ],
   "source": [
    "epsilon, f1 = select_threshold(pval, yval)\n",
    "epsilon, f1"
   ]
  },
  {
   "cell_type": "markdown",
   "metadata": {},
   "source": [
    "Finally, we can apply the threshold to the data set and visualize the results."
   ]
  },
  {
   "cell_type": "code",
   "execution_count": 13,
   "metadata": {},
   "outputs": [
    {
     "data": {
      "text/plain": [
       "(array([300, 301, 301, 303, 303, 304, 306, 306], dtype=int64),\n",
       " array([1, 0, 1, 0, 1, 0, 0, 1], dtype=int64))"
      ]
     },
     "execution_count": 13,
     "metadata": {},
     "output_type": "execute_result"
    }
   ],
   "source": [
    "# indexes of the values considered to be outliers\n",
    "outliers = np.where(p < epsilon)\n",
    "outliers"
   ]
  },
  {
   "cell_type": "code",
   "execution_count": 14,
   "metadata": {},
   "outputs": [
    {
     "data": {
      "text/plain": [
       "<matplotlib.collections.PathCollection at 0xc0c0860>"
      ]
     },
     "execution_count": 14,
     "metadata": {},
     "output_type": "execute_result"
    },
    {
     "data": {
      "image/png": "[encoded data removed]",
      "text/plain": [
       "<matplotlib.figure.Figure at 0xc2c85f8>"
      ]
     },
     "metadata": {},
     "output_type": "display_data"
    }
   ],
   "source": [
    "fig, ax = plt.subplots(figsize=(12,8))\n",
    "ax.scatter(X[:,0], X[:,1])\n",
    "ax.scatter(X[outliers[0],0], X[outliers[0],1], s=50, color='r', marker='o')"
   ]
  },
  {
   "cell_type": "markdown",
   "metadata": {},
   "source": [
    "The points in red are the ones that were flagged as outliers.  These seem pretty reasonable.  The top right point that has some separation (but was not flagged) may be an outlier too, but it's fairly close.  There's another example in the text of applying this to a higher-dimensional data set, but there's nothing new to do or look at so we'll move on to the last section."
   ]
  },
  {
   "cell_type": "markdown",
   "metadata": {},
   "source": [
    "## Collaborative filtering"
   ]
  },
  {
   "cell_type": "markdown",
   "metadata": {},
   "source": [
    "Recommendation engines use item and user-based similarity measures to examine a user's historical preferences to make recommendations for new \"things\" the user might be interested in.  In this exercise we'll implement a particular recommendation system algorithm called collaborative filtering and apply it to a data set of movie ratings.\n",
    "\n",
    "Let's first load and examine the data we'll be working with."
   ]
  },
  {
   "cell_type": "code",
   "execution_count": 15,
   "metadata": {},
   "outputs": [
    {
     "data": {
      "text/plain": [
       "{'R': array([[1, 1, 0, ..., 1, 0, 0],\n",
       "        [1, 0, 0, ..., 0, 0, 1],\n",
       "        [1, 0, 0, ..., 0, 0, 0],\n",
       "        ..., \n",
       "        [0, 0, 0, ..., 0, 0, 0],\n",
       "        [0, 0, 0, ..., 0, 0, 0],\n",
       "        [0, 0, 0, ..., 0, 0, 0]], dtype=uint8),\n",
       " 'Y': array([[5, 4, 0, ..., 5, 0, 0],\n",
       "        [3, 0, 0, ..., 0, 0, 5],\n",
       "        [4, 0, 0, ..., 0, 0, 0],\n",
       "        ..., \n",
       "        [0, 0, 0, ..., 0, 0, 0],\n",
       "        [0, 0, 0, ..., 0, 0, 0],\n",
       "        [0, 0, 0, ..., 0, 0, 0]], dtype=uint8),\n",
       " '__globals__': [],\n",
       " '__header__': b'MATLAB 5.0 MAT-file, Platform: GLNXA64, Created on: Thu Dec  1 17:19:26 2011',\n",
       " '__version__': '1.0'}"
      ]
     },
     "execution_count": 15,
     "metadata": {},
     "output_type": "execute_result"
    }
   ],
   "source": [
    "data = loadmat('data/ex8_movies.mat')\n",
    "data"
   ]
  },
  {
   "cell_type": "markdown",
   "metadata": {},
   "source": [
    "Y is a (number of movies x number of users) array containing ratings from 1 to 5.  R is an \"indicator\" array containing binary values indicating if a user has rated a movie or not.  Both should have the same shape."
   ]
  },
  {
   "cell_type": "code",
   "execution_count": 16,
   "metadata": {},
   "outputs": [
    {
     "data": {
      "text/plain": [
       "((1682, 943), (1682, 943))"
      ]
     },
     "execution_count": 16,
     "metadata": {},
     "output_type": "execute_result"
    }
   ],
   "source": [
    "Y = data['Y']\n",
    "R = data['R']\n",
    "Y.shape, R.shape"
   ]
  },
  {
   "cell_type": "markdown",
   "metadata": {},
   "source": [
    "We can look at the average rating for a movie by averaging over a row in Y for indexes where a rating is present."
   ]
  },
  {
   "cell_type": "code",
   "execution_count": 17,
   "metadata": {},
   "outputs": [
    {
     "data": {
      "text/plain": [
       "3.2061068702290076"
      ]
     },
     "execution_count": 17,
     "metadata": {},
     "output_type": "execute_result"
    }
   ],
   "source": [
    "Y[1,np.where(R[1,:]==1)[0]].mean()"
   ]
  },
  {
   "cell_type": "markdown",
   "metadata": {},
   "source": [
    "We can also try to \"visualize\" the data by rendering the matrix as if it were an image.  We can't glean too much from this but it does give us an idea of a relative density of ratings across users and movies."
   ]
  },
  {
   "cell_type": "code",
   "execution_count": 18,
   "metadata": {},
   "outputs": [
    {
     "data": {
      "image/png": "[encoded data removed]",
      "text/plain": [
       "<matplotlib.figure.Figure at 0xc0daac8>"
      ]
     },
     "metadata": {},
     "output_type": "display_data"
    }
   ],
   "source": [
    "fig, ax = plt.subplots(figsize=(12,12))\n",
    "ax.imshow(Y)\n",
    "ax.set_xlabel('Users')\n",
    "ax.set_ylabel('Movies')\n",
    "fig.tight_layout()"
   ]
  },
  {
   "cell_type": "markdown",
   "metadata": {},
   "source": [
    "Next we're going to implement a cost function for collaborative filtering.  Intuitively, the \"cost\" is the degree to which a set of movie rating predictions deviate from the true predictions.  The cost equation is given in the exercise text.  It is based on two sets of parameter matrices called X and Theta in the text.  These are \"unrolled\" into the \"params\" input so that we can use SciPy's optimization package later on.  Note that I've included the array/matrix shapes in comments (for the data we're using in this exercise) to help illustrate how the matrix interactions work."
   ]
  },
  {
   "cell_type": "code",
   "execution_count": 19,
   "metadata": {
    "collapsed": true
   },
   "outputs": [],
   "source": [
    "def cost(params, Y, R, num_features):\n",
    "    Y = np.matrix(Y)  # (1682, 943)\n",
    "    R = np.matrix(R)  # (1682, 943)\n",
    "    num_movies = Y.shape[0]\n",
    "    num_users = Y.shape[1]\n",
    "    \n",
    "    # reshape the parameter array into parameter matrices\n",
    "    X = np.matrix(np.reshape(params[:num_movies * num_features], (num_movies, num_features)))  # (1682, 10)\n",
    "    Theta = np.matrix(np.reshape(params[num_movies * num_features:], (num_users, num_features)))  # (943, 10)\n",
    "    \n",
    "    # initializations\n",
    "    J = 0\n",
    "    print(X.shape,Theta.shape,num_users,num_movies)\n",
    "    # compute the cost\n",
    "    error = np.multiply((X * Theta.T) - Y, R)  # (1682, 943)\n",
    "    squared_error = np.power(error, 2)  # (1682, 943)\n",
    "    J = (1. / 2) * np.sum(squared_error)\n",
    "    \n",
    "    return J"
   ]
  },
  {
   "cell_type": "markdown",
   "metadata": {},
   "source": [
    "In order to test this, we're provided with a set of pre-trained parameters that we can evaluate.  To keep the evaluation time down, we'll look at just a small sub-set of the data."
   ]
  },
  {
   "cell_type": "code",
   "execution_count": 20,
   "metadata": {},
   "outputs": [
    {
     "data": {
      "text/plain": [
       "((1682, 10), (943, 10))"
      ]
     },
     "execution_count": 20,
     "metadata": {},
     "output_type": "execute_result"
    }
   ],
   "source": [
    "params_data = loadmat('data/ex8_movieParams.mat')\n",
    "X = params_data['X']\n",
    "Theta = params_data['Theta']\n",
    "X.shape, Theta.shape"
   ]
  },
  {
   "cell_type": "code",
   "execution_count": 21,
   "metadata": {},
   "outputs": [
    {
     "name": "stdout",
     "output_type": "stream",
     "text": [
      "(5, 3) (4, 3) 4 5\n"
     ]
    },
    {
     "data": {
      "text/plain": [
       "22.224603725685675"
      ]
     },
     "execution_count": 21,
     "metadata": {},
     "output_type": "execute_result"
    }
   ],
   "source": [
    "users = 4\n",
    "movies = 5\n",
    "features = 3\n",
    "\n",
    "X_sub = X[:movies, :features]\n",
    "Theta_sub = Theta[:users, :features]\n",
    "Y_sub = Y[:movies, :users]\n",
    "R_sub = R[:movies, :users]\n",
    "\n",
    "params = np.concatenate((np.ravel(X_sub), np.ravel(Theta_sub)))\n",
    "\n",
    "cost(params, Y_sub, R_sub, features)"
   ]
  },
  {
   "cell_type": "markdown",
   "metadata": {},
   "source": [
    "Great, this matches what the exercise text said we're supposed to get.  Next we need to implement the gradient computations.  Just like we did with the neural networks implementation in exercise 4, we'll extend the cost function to also compute the gradients."
   ]
  },
  {
   "cell_type": "code",
   "execution_count": 22,
   "metadata": {
    "collapsed": true
   },
   "outputs": [],
   "source": [
    "def cost(params, Y, R, num_features):\n",
    "    Y = np.matrix(Y)  # (1682, 943)\n",
    "    R = np.matrix(R)  # (1682, 943)\n",
    "    num_movies = Y.shape[0]\n",
    "    num_users = Y.shape[1]\n",
    "    \n",
    "    # reshape the parameter array into parameter matrices\n",
    "    X = np.matrix(np.reshape(params[:num_movies * num_features], (num_movies, num_features)))  # (1682, 10)\n",
    "    Theta = np.matrix(np.reshape(params[num_movies * num_features:], (num_users, num_features)))  # (943, 10)\n",
    "    \n",
    "    # initializations\n",
    "    J = 0\n",
    "    X_grad = np.zeros(X.shape)  # (1682, 10)\n",
    "    Theta_grad = np.zeros(Theta.shape)  # (943, 10)\n",
    "    \n",
    "    # compute the cost\n",
    "    error = np.multiply((X * Theta.T) - Y, R)  # (1682, 943)\n",
    "    squared_error = np.power(error, 2)  # (1682, 943)\n",
    "    J = (1. / 2) * np.sum(squared_error)\n",
    "    \n",
    "    # calculate the gradients\n",
    "    print(error.T*X)\n",
    "    X_grad = error * Theta\n",
    "    Theta_grad = error.T * X\n",
    "    \n",
    "    # unravel the gradient matrices into a single array\n",
    "    grad = np.concatenate((np.ravel(X_grad), np.ravel(Theta_grad)))\n",
    "    \n",
    "    return J, grad"
   ]
  },
  {
   "cell_type": "code",
   "execution_count": 23,
   "metadata": {},
   "outputs": [
    {
     "name": "stdout",
     "output_type": "stream",
     "text": [
      "[[-10.5680202    4.62776019  -7.16004443]\n",
      " [ -3.05099006   1.16441367  -3.47410789]\n",
      " [  0.           0.           0.        ]\n",
      " [  0.           0.           0.        ]]\n"
     ]
    },
    {
     "data": {
      "text/plain": [
       "(22.224603725685675,\n",
       " array([ -2.52899165,   7.57570308,  -1.89979026,  -0.56819597,\n",
       "          3.35265031,  -0.52339845,  -0.83240713,   4.91163297,\n",
       "         -0.76677878,  -0.38358278,   2.26333698,  -0.35334048,\n",
       "         -0.80378006,   4.74271842,  -0.74040871, -10.5680202 ,\n",
       "          4.62776019,  -7.16004443,  -3.05099006,   1.16441367,\n",
       "         -3.47410789,   0.        ,   0.        ,   0.        ,\n",
       "          0.        ,   0.        ,   0.        ]))"
      ]
     },
     "execution_count": 23,
     "metadata": {},
     "output_type": "execute_result"
    }
   ],
   "source": [
    "J, grad = cost(params, Y_sub, R_sub, features)\n",
    "J, grad"
   ]
  },
  {
   "cell_type": "markdown",
   "metadata": {},
   "source": [
    "Our next step is to add regularization to both the cost and gradient calculations.  We'll create one final regularized version of the function (note that this version includes an additional \"learning rate\" parameter, called \"lambda\" in the text)."
   ]
  },
  {
   "cell_type": "code",
   "execution_count": 24,
   "metadata": {
    "collapsed": true
   },
   "outputs": [],
   "source": [
    "def cost(params, Y, R, num_features, learning_rate):\n",
    "    Y = np.matrix(Y)  # (1682, 943)\n",
    "    R = np.matrix(R)  # (1682, 943)\n",
    "    num_movies = Y.shape[0]\n",
    "    num_users = Y.shape[1]\n",
    "    \n",
    "    # reshape the parameter array into parameter matrices\n",
    "    X = np.matrix(np.reshape(params[:num_movies * num_features], (num_movies, num_features)))  # (1682, 10)\n",
    "    Theta = np.matrix(np.reshape(params[num_movies * num_features:], (num_users, num_features)))  # (943, 10)\n",
    "    \n",
    "    # initializations\n",
    "    J = 0\n",
    "    X_grad = np.zeros(X.shape)  # (1682, 10)\n",
    "    Theta_grad = np.zeros(Theta.shape)  # (943, 10)\n",
    "    \n",
    "    # compute the cost\n",
    "    error = np.multiply((X * Theta.T) - Y, R)  # (1682, 943)\n",
    "    squared_error = np.power(error, 2)  # (1682, 943)\n",
    "    J = (1. / 2) * np.sum(squared_error)\n",
    "    \n",
    "    # add the cost regularization\n",
    "    J = J + ((learning_rate / 2) * np.sum(np.power(Theta, 2)))\n",
    "    J = J + ((learning_rate / 2) * np.sum(np.power(X, 2)))\n",
    "    \n",
    "    # calculate the gradients with regularization\n",
    "    X_grad = (error * Theta) + (learning_rate * X)\n",
    "    Theta_grad = (error.T * X) + (learning_rate * Theta)\n",
    "    \n",
    "    # unravel the gradient matrices into a single array\n",
    "    grad = np.concatenate((np.ravel(X_grad), np.ravel(Theta_grad)))\n",
    "    \n",
    "    return J, grad"
   ]
  },
  {
   "cell_type": "code",
   "execution_count": 25,
   "metadata": {},
   "outputs": [
    {
     "data": {
      "text/plain": [
       "(31.344056244274221,\n",
       " array([ -0.95596339,   6.97535514,  -0.10861109,   0.60308088,\n",
       "          2.77421145,   0.25839822,   0.12985616,   4.0898522 ,\n",
       "         -0.89247334,   0.29684395,   1.06300933,   0.66738144,\n",
       "          0.60252677,   4.90185327,  -0.19747928, -10.13985478,\n",
       "          2.10136256,  -6.76563628,  -2.29347024,   0.48244098,\n",
       "         -2.99791422,  -0.64787484,  -0.71820673,   1.27006666,\n",
       "          1.09289758,  -0.40784086,   0.49026541]))"
      ]
     },
     "execution_count": 25,
     "metadata": {},
     "output_type": "execute_result"
    }
   ],
   "source": [
    "J, grad = cost(params, Y_sub, R_sub, features, 1.5)\n",
    "J, grad"
   ]
  },
  {
   "cell_type": "markdown",
   "metadata": {},
   "source": [
    "This result again matches up with the expected output from the exercise code, so it looks like the regularization is working.  Before we train the model, we have one final step.  We're tasked with creating our own movie ratings so we can use the model to generate personalized recommendations.  A file is provided for us that links the movie index to its title.  Let's load the file into a dictionary."
   ]
  },
  {
   "cell_type": "code",
   "execution_count": 26,
   "metadata": {
    "collapsed": true
   },
   "outputs": [],
   "source": [
    "movie_idx = {}\n",
    "f = open('data/movie_ids.txt')\n",
    "for line in f:\n",
    "    tokens = line.split(' ')\n",
    "    tokens[-1] = tokens[-1][:-1]\n",
    "    movie_idx[int(tokens[0]) - 1] = ' '.join(tokens[1:])"
   ]
  },
  {
   "cell_type": "code",
   "execution_count": 27,
   "metadata": {},
   "outputs": [
    {
     "data": {
      "text/plain": [
       "'Toy Story (1995)'"
      ]
     },
     "execution_count": 27,
     "metadata": {},
     "output_type": "execute_result"
    }
   ],
   "source": [
    "movie_idx[0]"
   ]
  },
  {
   "cell_type": "markdown",
   "metadata": {},
   "source": [
    "We'll use the ratings provided in the exercise."
   ]
  },
  {
   "cell_type": "code",
   "execution_count": 28,
   "metadata": {},
   "outputs": [
    {
     "name": "stdout",
     "output_type": "stream",
     "text": [
      "Rated Toy Story (1995) with 4 stars.\n",
      "Rated Twelve Monkeys (1995) with 3 stars.\n",
      "Rated Usual Suspects, The (1995) with 5 stars.\n",
      "Rated Outbreak (1995) with 4 stars.\n",
      "Rated Shawshank Redemption, The (1994) with 5 stars.\n",
      "Rated While You Were Sleeping (1995) with 3 stars.\n",
      "Rated Forrest Gump (1994) with 5 stars.\n",
      "Rated Silence of the Lambs, The (1991) with 2 stars.\n",
      "Rated Alien (1979) with 4 stars.\n",
      "Rated Die Hard 2 (1990) with 5 stars.\n",
      "Rated Sphere (1998) with 5 stars.\n"
     ]
    }
   ],
   "source": [
    "ratings = np.zeros((1682, 1))\n",
    "\n",
    "ratings[0] = 4\n",
    "ratings[6] = 3\n",
    "ratings[11] = 5\n",
    "ratings[53] = 4\n",
    "ratings[63] = 5\n",
    "ratings[65] = 3\n",
    "ratings[68] = 5\n",
    "ratings[97] = 2\n",
    "ratings[182] = 4\n",
    "ratings[225] = 5\n",
    "ratings[354] = 5\n",
    "\n",
    "print('Rated {0} with {1} stars.'.format(movie_idx[0], str(int(ratings[0]))))\n",
    "print('Rated {0} with {1} stars.'.format(movie_idx[6], str(int(ratings[6]))))\n",
    "print('Rated {0} with {1} stars.'.format(movie_idx[11], str(int(ratings[11]))))\n",
    "print('Rated {0} with {1} stars.'.format(movie_idx[53], str(int(ratings[53]))))\n",
    "print('Rated {0} with {1} stars.'.format(movie_idx[63], str(int(ratings[63]))))\n",
    "print('Rated {0} with {1} stars.'.format(movie_idx[65], str(int(ratings[65]))))\n",
    "print('Rated {0} with {1} stars.'.format(movie_idx[68], str(int(ratings[68]))))\n",
    "print('Rated {0} with {1} stars.'.format(movie_idx[97], str(int(ratings[97]))))\n",
    "print('Rated {0} with {1} stars.'.format(movie_idx[182], str(int(ratings[182]))))\n",
    "print('Rated {0} with {1} stars.'.format(movie_idx[225], str(int(ratings[225]))))\n",
    "print('Rated {0} with {1} stars.'.format(movie_idx[354], str(int(ratings[354]))))"
   ]
  },
  {
   "cell_type": "markdown",
   "metadata": {},
   "source": [
    "We can add our own ratings vector to the existing data set to include in the model."
   ]
  },
  {
   "cell_type": "code",
   "execution_count": 29,
   "metadata": {},
   "outputs": [
    {
     "data": {
      "text/plain": [
       "((1682, 944), (1682, 944), (1682, 1))"
      ]
     },
     "execution_count": 29,
     "metadata": {},
     "output_type": "execute_result"
    }
   ],
   "source": [
    "R = data['R']\n",
    "Y = data['Y']\n",
    "\n",
    "Y = np.append(Y, ratings, axis=1)\n",
    "R = np.append(R, ratings != 0, axis=1)\n",
    "\n",
    "Y.shape, R.shape, ratings.shape"
   ]
  },
  {
   "cell_type": "markdown",
   "metadata": {},
   "source": [
    "We're not just about ready to train the collaborative filtering model.  We just need to define some variables and normalize the ratings."
   ]
  },
  {
   "cell_type": "code",
   "execution_count": 30,
   "metadata": {},
   "outputs": [
    {
     "data": {
      "text/plain": [
       "((1682, 10), (944, 10), (26260,))"
      ]
     },
     "execution_count": 30,
     "metadata": {},
     "output_type": "execute_result"
    }
   ],
   "source": [
    "movies = Y.shape[0]  # 1682\n",
    "users = Y.shape[1]  # 944\n",
    "features = 10\n",
    "learning_rate = 10.\n",
    "\n",
    "X = np.random.random(size=(movies, features))\n",
    "Theta = np.random.random(size=(users, features))\n",
    "params = np.concatenate((np.ravel(X), np.ravel(Theta)))\n",
    "\n",
    "X.shape, Theta.shape, params.shape"
   ]
  },
  {
   "cell_type": "code",
   "execution_count": 31,
   "metadata": {},
   "outputs": [
    {
     "data": {
      "text/plain": [
       "5.5070364565159845e-19"
      ]
     },
     "execution_count": 31,
     "metadata": {},
     "output_type": "execute_result"
    }
   ],
   "source": [
    "Ymean = np.zeros((movies, 1))\n",
    "Ynorm = np.zeros((movies, users))\n",
    "\n",
    "for i in range(movies):\n",
    "    idx = np.where(R[i,:] == 1)[0]\n",
    "    Ymean[i] = Y[i,idx].mean()\n",
    "    Ynorm[i,idx] = Y[i,idx] - Ymean[i]\n",
    "\n",
    "Ynorm.mean()"
   ]
  },
  {
   "cell_type": "code",
   "execution_count": 32,
   "metadata": {},
   "outputs": [
    {
     "data": {
      "text/plain": [
       "     fun: 38975.01362893484\n",
       "     jac: array([ 0.07693419,  0.01443163,  0.05265194, ..., -0.00233459,\n",
       "        0.00127983, -0.000403  ])\n",
       " message: 'Maximum number of iterations has been exceeded.'\n",
       "    nfev: 155\n",
       "     nit: 100\n",
       "    njev: 155\n",
       "  status: 1\n",
       " success: False\n",
       "       x: array([-0.00787453, -0.12543965,  1.17853728, ...,  0.03849   ,\n",
       "        0.27144773, -0.08079638])"
      ]
     },
     "execution_count": 32,
     "metadata": {},
     "output_type": "execute_result"
    }
   ],
   "source": [
    "from scipy.optimize import minimize\n",
    "\n",
    "fmin = minimize(fun=cost, x0=params, args=(Ynorm, R, features, learning_rate), \n",
    "                method='CG', jac=True, options={'maxiter': 100})\n",
    "fmin"
   ]
  },
  {
   "cell_type": "code",
   "execution_count": 33,
   "metadata": {},
   "outputs": [
    {
     "data": {
      "text/plain": [
       "((1682, 10), (944, 10))"
      ]
     },
     "execution_count": 33,
     "metadata": {},
     "output_type": "execute_result"
    }
   ],
   "source": [
    "X = np.matrix(np.reshape(fmin.x[:movies * features], (movies, features)))\n",
    "Theta = np.matrix(np.reshape(fmin.x[movies * features:], (users, features)))\n",
    "\n",
    "X.shape, Theta.shape"
   ]
  },
  {
   "cell_type": "markdown",
   "metadata": {},
   "source": [
    "Our trained parameters are now in X and Theta.  We can use these to create some recommendations for the user we added."
   ]
  },
  {
   "cell_type": "code",
   "execution_count": 34,
   "metadata": {},
   "outputs": [
    {
     "data": {
      "text/plain": [
       "(1682, 1)"
      ]
     },
     "execution_count": 34,
     "metadata": {},
     "output_type": "execute_result"
    }
   ],
   "source": [
    "predictions = X * Theta.T \n",
    "my_preds = predictions[:, -1] + Ymean\n",
    "my_preds.shape"
   ]
  },
  {
   "cell_type": "code",
   "execution_count": 35,
   "metadata": {},
   "outputs": [
    {
     "data": {
      "text/plain": [
       "matrix([[ 5.00000368],\n",
       "        [ 5.00000012],\n",
       "        [ 4.99999967],\n",
       "        [ 4.99999965],\n",
       "        [ 4.99999965],\n",
       "        [ 4.9999995 ],\n",
       "        [ 4.99999924],\n",
       "        [ 4.99999924],\n",
       "        [ 4.99999897],\n",
       "        [ 4.99999893]])"
      ]
     },
     "execution_count": 35,
     "metadata": {},
     "output_type": "execute_result"
    }
   ],
   "source": [
    "sorted_preds = np.sort(my_preds, axis=0)[::-1]\n",
    "sorted_preds[:10]"
   ]
  },
  {
   "cell_type": "markdown",
   "metadata": {},
   "source": [
    "That gives us an ordered list of the top ratings, but we lost what index those ratings are for.  We actually need to use argsort so we know what movie the predicted rating corresponds to."
   ]
  },
  {
   "cell_type": "code",
   "execution_count": 36,
   "metadata": {},
   "outputs": [
    {
     "data": {
      "text/plain": [
       "matrix([[1535],\n",
       "        [ 813],\n",
       "        [1598],\n",
       "        ..., \n",
       "        [1660],\n",
       "        [1677],\n",
       "        [ 436]], dtype=int64)"
      ]
     },
     "execution_count": 36,
     "metadata": {},
     "output_type": "execute_result"
    }
   ],
   "source": [
    "idx = np.argsort(my_preds, axis=0)[::-1]\n",
    "idx"
   ]
  },
  {
   "cell_type": "code",
   "execution_count": 37,
   "metadata": {},
   "outputs": [
    {
     "name": "stdout",
     "output_type": "stream",
     "text": [
      "Top 10 movie predictions:\n",
      "Predicted rating of 5.000003682029684 for movie Aiqing wansui (1994).\n",
      "Predicted rating of 5.000000115013486 for movie Great Day in Harlem, A (1994).\n",
      "Predicted rating of 4.999999670022873 for movie Someone Else's America (1995).\n",
      "Predicted rating of 4.9999996526255375 for movie Entertaining Angels: The Dorothy Day Story (1996).\n",
      "Predicted rating of 4.999999646676975 for movie Santa with Muscles (1996).\n",
      "Predicted rating of 4.999999495706332 for movie Prefontaine (1997).\n",
      "Predicted rating of 4.999999243895033 for movie They Made Me a Criminal (1939).\n",
      "Predicted rating of 4.999999239343535 for movie Saint of Fort Washington, The (1993).\n",
      "Predicted rating of 4.999998967796209 for movie Star Kid (1997).\n",
      "Predicted rating of 4.999998930189196 for movie Marlene Dietrich: Shadow and Light (1996) .\n"
     ]
    }
   ],
   "source": [
    "print(\"Top 10 movie predictions:\")\n",
    "for i in range(10):\n",
    "    j = int(idx[i])\n",
    "    print('Predicted rating of {0} for movie {1}.'.format(str(float(my_preds[j])), movie_idx[j]))"
   ]
  },
  {
   "cell_type": "markdown",
   "metadata": {},
   "source": [
    "The recommended movies don't actually line up that well with what's in the exercise text.  The reason why isn't too clear and I haven't found anything to account for it.  If you spot a mistake somewhere, please let me know.  Even if there's some minor difference or a step in the original exercise that I missed, the bulk of the example is accurate.\n",
    "\n",
    "That concludes the exercise and this notebook series!  I hope you learned as much as I did.  Thanks for reading."
   ]
  }
 ],
 "metadata": {
  "kernelspec": {
   "display_name": "Python 3",
   "language": "python",
   "name": "python3"
  },
  "language_info": {
   "codemirror_mode": {
    "name": "ipython",
    "version": 3
   },
   "file_extension": ".py",
   "mimetype": "text/x-python",
   "name": "python",
   "nbconvert_exporter": "python",
   "pygments_lexer": "ipython3",
   "version": "3.6.1"
  }
 },
 "nbformat": 4,
 "nbformat_minor": 1
}
