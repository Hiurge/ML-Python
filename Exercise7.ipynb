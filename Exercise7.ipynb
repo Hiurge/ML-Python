{
 "cells": [
  {
   "cell_type": "code",
   "execution_count": 1,
   "metadata": {
    "collapsed": true
   },
   "outputs": [],
   "source": [
    "import numpy as np\n",
    "import pandas as pd\n",
    "import matplotlib.pyplot as plt\n",
    "import seaborn as sb\n",
    "from scipy.io import loadmat\n",
    "%matplotlib inline"
   ]
  },
  {
   "cell_type": "code",
   "execution_count": 2,
   "metadata": {
    "collapsed": true
   },
   "outputs": [],
   "source": [
    "def find_closest_centroids(X, centroids):\n",
    "    m = X.shape[0]\n",
    "    k = centroids.shape[0]\n",
    "    idx = np.zeros(m)\n",
    "    \n",
    "    for i in range(m):\n",
    "        curr_dist=10000000\n",
    "        for j in range(k):\n",
    "            local_dist=np.sum(np.power((X[i,:]-centroids[j,:]),2))\n",
    "            if local_dist<curr_dist:\n",
    "                idx[i]=j\n",
    "                curr_dist=local_dist\n",
    "    return idx"
   ]
  },
  {
   "cell_type": "code",
   "execution_count": 3,
   "metadata": {},
   "outputs": [],
   "source": [
    "data = loadmat('data/ex7data2.mat')\n",
    "X = data['X']\n",
    "initial_centroids = initial_centroids = np.array([[3, 3], [6, 2], [8, 5]])\n",
    "\n",
    "idx = find_closest_centroids(X, initial_centroids)\n"
   ]
  },
  {
   "cell_type": "code",
   "execution_count": 4,
   "metadata": {},
   "outputs": [],
   "source": [
    "def compute_centroids(X,idx,K):\n",
    "    cent=np.zeros(shape=[K,X.shape[1]])\n",
    "    for i in range(K):\n",
    "        print(i)\n",
    "        print(len(np.where(idx==i)[0]),np.sum(X[np.where(idx==i),:],axis=1))\n",
    "        cent[i,:]=(np.sum(X[np.where(idx==i),:],axis=1))/len(np.where(idx==i)[0])\n",
    "    return cent"
   ]
  },
  {
   "cell_type": "code",
   "execution_count": 5,
   "metadata": {},
   "outputs": [
    {
     "name": "stdout",
     "output_type": "stream",
     "text": [
      "0\n",
      "191 [[ 463.80551241  603.16351773]]\n",
      "1\n",
      "103 [[ 598.79084078  271.26661449]]\n",
      "2\n",
      "6 [[ 42.71632123  21.70010639]]\n"
     ]
    },
    {
     "data": {
      "text/plain": [
       "array([[ 2.42830111,  3.15792418],\n",
       "       [ 5.81350331,  2.63365645],\n",
       "       [ 7.11938687,  3.6166844 ]])"
      ]
     },
     "execution_count": 5,
     "metadata": {},
     "output_type": "execute_result"
    }
   ],
   "source": [
    "compute_centroids(X, idx, 3)"
   ]
  },
  {
   "cell_type": "code",
   "execution_count": 6,
   "metadata": {
    "collapsed": true
   },
   "outputs": [],
   "source": [
    "def runKmeans(X,init_cent,max_iters):\n",
    "    m,n=X.shape\n",
    "    K=init_cent.shape[0]\n",
    "    centroids=init_cent\n",
    "    prev_cent=centroids\n",
    "    idx=np.zeros(shape=[m,])\n",
    "    for i in range(max_iters):\n",
    "        idx=find_closest_centroids(X,centroids)\n",
    "        centroids=compute_centroids(X,idx,K)\n",
    "    return idx,centroids"
   ]
  },
  {
   "cell_type": "code",
   "execution_count": 7,
   "metadata": {},
   "outputs": [
    {
     "name": "stdout",
     "output_type": "stream",
     "text": [
      "0\n",
      "191 [[ 463.80551241  603.16351773]]\n",
      "1\n",
      "103 [[ 598.79084078  271.26661449]]\n",
      "2\n",
      "6 [[ 42.71632123  21.70010639]]\n",
      "0\n",
      "179 [[ 414.07269123  577.8668048 ]]\n",
      "1\n",
      "91 [[ 485.27912911  221.2752353 ]]\n",
      "2\n",
      "30 [[ 205.96085408   96.98819852]]\n",
      "0\n",
      "164 [[ 360.29566556  561.10419936]]\n",
      "1\n",
      "88 [[ 425.52874968  187.41953543]]\n",
      "2\n",
      "48 [[ 319.48825918  147.60650383]]\n",
      "0\n",
      "131 [[ 259.69593439  527.28528345]]\n",
      "1\n",
      "93 [[ 363.77020997  136.76630756]]\n",
      "2\n",
      "76 [[ 481.84653006  232.0786476 ]]\n",
      "0\n",
      "98 [[ 191.49147716  492.50586582]]\n",
      "1\n",
      "108 [[ 337.67684257  120.11448989]]\n",
      "2\n",
      "94 [[ 576.14435469  283.5098829 ]]\n",
      "0\n",
      "98 [[ 191.49147716  492.50586582]]\n",
      "1\n",
      "102 [[ 310.45446166  103.57186161]]\n",
      "2\n",
      "100 [[ 603.3667356   300.05251118]]\n",
      "0\n",
      "98 [[ 191.49147716  492.50586582]]\n",
      "1\n",
      "102 [[ 310.45446166  103.57186161]]\n",
      "2\n",
      "100 [[ 603.3667356   300.05251118]]\n",
      "0\n",
      "98 [[ 191.49147716  492.50586582]]\n",
      "1\n",
      "102 [[ 310.45446166  103.57186161]]\n",
      "2\n",
      "100 [[ 603.3667356   300.05251118]]\n",
      "0\n",
      "98 [[ 191.49147716  492.50586582]]\n",
      "1\n",
      "102 [[ 310.45446166  103.57186161]]\n",
      "2\n",
      "100 [[ 603.3667356   300.05251118]]\n",
      "0\n",
      "98 [[ 191.49147716  492.50586582]]\n",
      "1\n",
      "102 [[ 310.45446166  103.57186161]]\n",
      "2\n",
      "100 [[ 603.3667356   300.05251118]]\n"
     ]
    }
   ],
   "source": [
    "idx, centroids = runKmeans(X, initial_centroids, 10)"
   ]
  },
  {
   "cell_type": "code",
   "execution_count": 8,
   "metadata": {},
   "outputs": [
    {
     "name": "stdout",
     "output_type": "stream",
     "text": [
      "(300, 2)\n"
     ]
    },
    {
     "data": {
      "image/png": "[encoded data removed]",
      "text/plain": [
       "<matplotlib.figure.Figure at 0xbef32e8>"
      ]
     },
     "metadata": {},
     "output_type": "display_data"
    }
   ],
   "source": [
    "cluster1 = X[np.where(idx == 0)[0],:]\n",
    "cluster2 = X[np.where(idx == 1)[0],:]\n",
    "cluster3 = X[np.where(idx == 2)[0],:]\n",
    "\n",
    "fig, ax = plt.subplots(figsize=(12,8))\n",
    "ax.scatter(cluster1[:,0], cluster1[:,1], s=30, color='r', label='Cluster 1')\n",
    "ax.scatter(cluster2[:,0], cluster2[:,1], s=30, color='g', label='Cluster 2')\n",
    "ax.scatter(cluster3[:,0], cluster3[:,1], s=30, color='b', label='Cluster 3')\n",
    "ax.legend()\n",
    "print(X.shape)"
   ]
  },
  {
   "cell_type": "code",
   "execution_count": 9,
   "metadata": {},
   "outputs": [],
   "source": [
    "def init_cent(X,K):\n",
    "    randidx=np.zeros(shape=X.shape)\n",
    "    randidx[:,0]=np.random.permutation(X[:,0])\n",
    "    randidx[:,1]=np.random.permutation(X[:,1])\n",
    "    centroids=randidx[:K,:]\n",
    "    return centroids"
   ]
  },
  {
   "cell_type": "code",
   "execution_count": 10,
   "metadata": {},
   "outputs": [
    {
     "data": {
      "text/plain": [
       "array([[ 4.70775773,  3.05676866],\n",
       "       [ 2.45575934,  0.88027602],\n",
       "       [ 5.31712478,  2.44954813],\n",
       "       [ 0.37963437,  5.09464676],\n",
       "       [ 1.97619886,  5.36028437]])"
      ]
     },
     "execution_count": 10,
     "metadata": {},
     "output_type": "execute_result"
    }
   ],
   "source": [
    "init_cent(X,5)"
   ]
  },
  {
   "cell_type": "code",
   "execution_count": 11,
   "metadata": {},
   "outputs": [
    {
     "data": {
      "image/png": "[encoded data removed]",
      "text/plain": [
       "<IPython.core.display.Image object>"
      ]
     },
     "execution_count": 11,
     "metadata": {},
     "output_type": "execute_result"
    }
   ],
   "source": [
    "from IPython.display import Image\n",
    "Image(filename='data/bird_small.png')"
   ]
  },
  {
   "cell_type": "code",
   "execution_count": 12,
   "metadata": {},
   "outputs": [],
   "source": [
    "image_data = loadmat('data/bird_small.mat')\n"
   ]
  },
  {
   "cell_type": "code",
   "execution_count": 13,
   "metadata": {},
   "outputs": [
    {
     "data": {
      "text/plain": [
       "(128, 128, 3)"
      ]
     },
     "execution_count": 13,
     "metadata": {},
     "output_type": "execute_result"
    }
   ],
   "source": [
    "A = image_data['A']\n",
    "A.shape"
   ]
  },
  {
   "cell_type": "code",
   "execution_count": 14,
   "metadata": {},
   "outputs": [
    {
     "data": {
      "text/plain": [
       "(16384, 3)"
      ]
     },
     "execution_count": 14,
     "metadata": {},
     "output_type": "execute_result"
    }
   ],
   "source": [
    "A=A/255\n",
    "X=np.reshape(A,(A.shape[0]*A.shape[1],A.shape[2]))\n",
    "X.shape"
   ]
  },
  {
   "cell_type": "code",
   "execution_count": 15,
   "metadata": {},
   "outputs": [
    {
     "name": "stdout",
     "output_type": "stream",
     "text": [
      "0\n",
      "689 [[ 364.30588235  250.9372549   173.17647059]]\n",
      "1\n",
      "1723 [[ 1354.8         1179.55686275   869.47058824]]\n",
      "2\n",
      "2282 [[ 2102.50196078  1782.          1324.34901961]]\n",
      "3\n",
      "0 [[ 0.  0.  0.]]\n",
      "4\n",
      "1076 [[ 489.67058824  479.07843137  458.39607843]]\n",
      "5\n",
      "77 [[ 53.98823529  66.49019608  67.94117647]]\n",
      "6\n",
      "0 [[ 0.  0.  0.]]\n",
      "7\n",
      "153 [[  82.          102.96862745  119.98431373]]\n",
      "8\n",
      "5611 [[ 754.21568627  771.50588235  733.41568627]]\n",
      "9\n",
      "192 [[ 63.30196078  67.65882353  78.15294118]]\n",
      "10\n",
      "122 [[ 116.04313725   61.80784314   30.69803922]]\n",
      "11\n",
      "0 [[ 0.  0.  0.]]\n",
      "12\n",
      "1175 [[ 1147.8         1124.76862745   907.25490196]]\n",
      "13\n",
      "415 [[ 165.68627451  108.65882353   85.10196078]]\n",
      "14\n",
      "0 [[ 0.  0.  0.]]\n",
      "15\n",
      "2869 [[ 2002.30196078  1545.21568627  1018.59215686]]\n"
     ]
    },
    {
     "name": "stderr",
     "output_type": "stream",
     "text": [
      "D:\\Anaconda3\\lib\\site-packages\\ipykernel_launcher.py:6: RuntimeWarning: invalid value encountered in true_divide\n",
      "  \n"
     ]
    },
    {
     "name": "stdout",
     "output_type": "stream",
     "text": [
      "0\n",
      "1096 [[ 597.8         439.66666667  248.53333333]]\n",
      "1\n",
      "2201 [[ 1749.63137255  1491.56078431  1069.58823529]]\n",
      "2\n",
      "1414 [[ 1307.95686275  1114.58039216   836.80784314]]\n",
      "3\n",
      "0 [[ 0.  0.  0.]]\n",
      "4\n",
      "821 [[ 416.36078431  380.9254902   369.67058824]]\n",
      "5\n",
      "293 [[ 223.21568627  240.92941176  251.43137255]]\n",
      "6\n",
      "0 [[ 0.  0.  0.]]\n",
      "7\n",
      "356 [[ 187.74901961  220.95686275  271.74117647]]\n",
      "8\n",
      "4934 [[ 566.68235294  593.0627451   549.57254902]]\n",
      "9\n",
      "523 [[ 163.71764706  174.10980392  209.10980392]]\n",
      "10\n",
      "557 [[ 509.45098039  321.87058824  145.74901961]]\n",
      "11\n",
      "0 [[ 0.  0.  0.]]\n",
      "12\n",
      "1421 [[ 1391.30980392  1326.69411765  1111.61176471]]\n",
      "13\n",
      "1023 [[ 357.27058824  275.20784314  216.10980392]]\n",
      "14\n",
      "0 [[ 0.  0.  0.]]\n",
      "15\n",
      "1745 [[ 1225.47058824   961.08235294   586.60784314]]\n",
      "0\n",
      "1153 [[ 638.          469.15294118  249.92941176]]\n",
      "1\n",
      "2173 [[ 1738.00392157  1477.81568627  1046.6627451 ]]\n",
      "2\n",
      "1227 [[ 1145.89019608   982.51372549   719.10196078]]\n",
      "3\n",
      "0 [[ 0.  0.  0.]]\n",
      "4\n",
      "1056 [[ 570.07843137  500.3254902   479.74509804]]\n",
      "5\n",
      "490 [[ 386.04705882  386.30196078  400.83529412]]\n",
      "6\n",
      "0 [[ 0.  0.  0.]]\n",
      "7\n",
      "391 [[ 204.01176471  236.99607843  292.97647059]]\n",
      "8\n",
      "4673 [[ 508.76078431  536.95294118  493.78823529]]\n",
      "9\n",
      "511 [[ 165.91764706  173.2         205.36470588]]\n",
      "10\n",
      "729 [[ 656.19607843  433.80392157  201.41176471]]\n",
      "11\n",
      "0 [[ 0.  0.  0.]]\n",
      "12\n",
      "1369 [[ 1343.72941176  1281.30196078  1073.64705882]]\n",
      "13\n",
      "1309 [[ 417.49411765  337.74117647  285.25882353]]\n",
      "14\n",
      "0 [[ 0.  0.  0.]]\n",
      "15\n",
      "1303 [[ 922.48627451  724.54117647  417.81176471]]\n",
      "0\n",
      "1188 [[ 655.05490196  481.26666667  253.44313725]]\n",
      "1\n",
      "2109 [[ 1693.52156863  1439.8627451   1012.2       ]]\n",
      "2\n",
      "1117 [[ 1053.84313725   905.99215686   646.83137255]]\n",
      "3\n",
      "0 [[ 0.  0.  0.]]\n",
      "4\n",
      "1124 [[ 628.63137255  543.13333333  510.2627451 ]]\n",
      "5\n",
      "617 [[ 489.87058824  474.65098039  488.38431373]]\n",
      "6\n",
      "0 [[ 0.  0.  0.]]\n",
      "7\n",
      "399 [[ 205.97254902  239.29411765  297.72941176]]\n",
      "8\n",
      "4500 [[ 473.60784314  502.77254902  460.29411765]]\n",
      "9\n",
      "552 [[ 191.44313725  193.42352941  224.36862745]]\n",
      "10\n",
      "776 [[ 696.96862745  467.15686275  220.40392157]]\n",
      "11\n",
      "0 [[ 0.  0.  0.]]\n",
      "12\n",
      "1353 [[ 1327.54509804  1268.26666667  1065.28235294]]\n",
      "13\n",
      "1464 [[ 435.7372549   363.86666667  319.31372549]]\n",
      "14\n",
      "0 [[ 0.  0.  0.]]\n",
      "15\n",
      "1185 [[ 844.41960784  660.96078431  368.01960784]]\n",
      "0\n",
      "1200 [[ 654.24313725  480.95294118  254.78431373]]\n",
      "1\n",
      "2065 [[ 1664.46666667  1416.78823529   985.85882353]]\n",
      "2\n",
      "1069 [[ 1014.94117647   873.66666667   619.05490196]]\n",
      "3\n",
      "0 [[ 0.  0.  0.]]\n",
      "4\n",
      "1159 [[ 665.33333333  571.06666667  529.76078431]]\n",
      "5\n",
      "670 [[ 532.11764706  508.47843137  520.65490196]]\n",
      "6\n",
      "0 [[ 0.  0.  0.]]\n",
      "7\n",
      "398 [[ 203.58039216  237.74117647  297.41960784]]\n",
      "8\n",
      "4393 [[ 453.09803922  482.55686275  440.84313725]]\n",
      "9\n",
      "626 [[ 226.74117647  223.83921569  252.29803922]]\n",
      "10\n",
      "775 [[ 697.74117647  469.4745098   223.65490196]]\n",
      "11\n",
      "0 [[ 0.  0.  0.]]\n",
      "12\n",
      "1345 [[ 1317.98823529  1261.2745098   1063.36470588]]\n",
      "13\n",
      "1518 [[ 430.61176471  366.27843137  328.52156863]]\n",
      "14\n",
      "0 [[ 0.  0.  0.]]\n",
      "15\n",
      "1166 [[ 835.75294118  648.52941176  350.31764706]]\n",
      "0\n",
      "1197 [[ 644.70588235  474.          252.69019608]]\n",
      "1\n",
      "2035 [[ 1646.65882353  1400.56470588   963.85490196]]\n",
      "2\n",
      "1045 [[ 994.92941176  857.80392157  607.61960784]]\n",
      "3\n",
      "0 [[ 0.  0.  0.]]\n",
      "4\n",
      "1184 [[ 691.64705882  594.09019608  546.40392157]]\n",
      "5\n",
      "710 [[ 563.30196078  534.42352941  543.21960784]]\n",
      "6\n",
      "0 [[ 0.  0.  0.]]\n",
      "7\n",
      "390 [[ 197.43921569  232.42745098  293.45882353]]\n",
      "8\n",
      "4302 [[ 436.58039216  465.9254902   424.50588235]]\n",
      "9\n",
      "693 [[ 259.6627451   249.70980392  275.90196078]]\n",
      "10\n",
      "760 [[ 686.54901961  462.47843137  221.85098039]]\n",
      "11\n",
      "0 [[ 0.  0.  0.]]\n",
      "12\n",
      "1338 [[ 1309.7254902   1254.97254902  1061.34901961]]\n",
      "13\n",
      "1562 [[ 425.52941176  368.8         336.28235294]]\n",
      "14\n",
      "0 [[ 0.  0.  0.]]\n",
      "15\n",
      "1168 [[ 839.88627451  645.45098039  339.39607843]]\n",
      "0\n",
      "1185 [[ 632.92156863  465.22745098  248.62745098]]\n",
      "1\n",
      "2027 [[ 1648.12156863  1399.50196078   951.88235294]]\n",
      "2\n",
      "1031 [[ 983.52941176  850.09019608  603.81568627]]\n",
      "3\n",
      "0 [[ 0.  0.  0.]]\n",
      "4\n",
      "1228 [[ 727.63529412  627.02352941  573.22352941]]\n",
      "5\n",
      "725 [[ 573.79215686  541.40392157  548.94901961]]\n",
      "6\n",
      "0 [[ 0.  0.  0.]]\n",
      "7\n",
      "373 [[ 186.27843137  221.85490196  283.40392157]]\n",
      "8\n",
      "4245 [[ 426.34509804  455.78431373  414.91764706]]\n",
      "9\n",
      "772 [[ 295.85490196  278.60784314  302.07058824]]\n",
      "10\n",
      "738 [[ 668.98431373  450.14117647  217.87058824]]\n",
      "11\n",
      "0 [[ 0.  0.  0.]]\n",
      "12\n",
      "1332 [[ 1302.03921569  1249.45882353  1060.48235294]]\n",
      "13\n",
      "1564 [[ 412.96078431  362.63921569  333.42352941]]\n",
      "14\n",
      "0 [[ 0.  0.  0.]]\n",
      "15\n",
      "1164 [[ 838.15294118  638.91372549  327.86666667]]\n",
      "0\n",
      "1170 [[ 619.50588235  455.17647059  243.43529412]]\n",
      "1\n",
      "2018 [[ 1648.60392157  1397.38039216   940.00784314]]\n",
      "2\n",
      "1027 [[ 980.90980392  850.61960784  605.62745098]]\n",
      "3\n",
      "0 [[ 0.  0.  0.]]\n",
      "4\n",
      "1240 [[ 742.30196078  641.62745098  584.59607843]]\n",
      "5\n",
      "746 [[ 588.19607843  553.49803922  560.47058824]]\n",
      "6\n",
      "0 [[ 0.  0.  0.]]\n",
      "7\n",
      "362 [[ 178.22352941  214.51372549  276.64705882]]\n",
      "8\n",
      "4170 [[ 413.37254902  442.6627451   402.27058824]]\n",
      "9\n",
      "846 [[ 329.87058824  305.94901961  326.22352941]]\n",
      "10\n",
      "723 [[ 656.1372549   441.25098039  214.43137255]]\n",
      "11\n",
      "0 [[ 0.  0.  0.]]\n",
      "12\n",
      "1319 [[ 1288.65098039  1237.11372549  1052.98039216]]\n",
      "13\n",
      "1588 [[ 405.80392157  360.38039216  335.50588235]]\n",
      "14\n",
      "0 [[ 0.  0.  0.]]\n",
      "15\n",
      "1175 [[ 845.03921569  640.4745098   324.3372549 ]]\n",
      "0\n",
      "1134 [[ 595.98823529  437.98823529  234.        ]]\n",
      "1\n",
      "1999 [[ 1640.61176471  1388.24705882   923.94509804]]\n",
      "2\n",
      "1022 [[ 976.6745098   848.45490196  605.48235294]]\n",
      "3\n",
      "0 [[ 0.  0.  0.]]\n",
      "4\n",
      "1283 [[ 775.07843137  670.83137255  609.17254902]]\n",
      "5\n",
      "759 [[ 597.23529412  560.76862745  566.98039216]]\n",
      "6\n",
      "0 [[ 0.  0.  0.]]\n",
      "7\n",
      "355 [[ 172.99215686  209.16078431  272.1372549 ]]\n",
      "8\n",
      "4102 [[ 401.72941176  431.05490196  391.14901961]]\n",
      "9\n",
      "894 [[ 352.49803922  323.70980392  340.6       ]]\n",
      "10\n",
      "710 [[ 644.5372549   433.18039216  210.07058824]]\n",
      "11\n",
      "0 [[ 0.  0.  0.]]\n",
      "12\n",
      "1315 [[ 1283.69019608  1233.47843137  1051.60392157]]\n",
      "13\n",
      "1627 [[ 406.04313725  363.29411765  340.08627451]]\n",
      "14\n",
      "0 [[ 0.  0.  0.]]\n",
      "15\n",
      "1184 [[ 849.5372549   640.47843137  321.30588235]]\n",
      "0\n",
      "1121 [[ 585.85490196  430.40392157  229.54117647]]\n",
      "1\n",
      "2002 [[ 1649.11764706  1392.41568627   919.17647059]]\n",
      "2\n",
      "1019 [[ 973.91764706  847.77647059  606.8       ]]\n",
      "3\n",
      "0 [[ 0.  0.  0.]]\n",
      "4\n",
      "1303 [[ 792.16078431  686.54117647  622.34117647]]\n",
      "5\n",
      "772 [[ 606.49019608  569.1372549   574.16862745]]\n",
      "6\n",
      "0 [[ 0.  0.  0.]]\n",
      "7\n",
      "350 [[ 168.79607843  204.66666667  268.92156863]]\n",
      "8\n",
      "4042 [[ 391.7254902   420.96862745  381.43137255]]\n",
      "9\n",
      "936 [[ 371.34117647  339.49803922  352.84313725]]\n",
      "10\n",
      "696 [[ 631.60392157  423.7372549   205.56862745]]\n",
      "11\n",
      "0 [[ 0.  0.  0.]]\n",
      "12\n",
      "1307 [[ 1275.49803922  1226.14117647  1046.8       ]]\n",
      "13\n",
      "1654 [[ 403.91764706  363.36470588  342.38431373]]\n",
      "14\n",
      "0 [[ 0.  0.  0.]]\n",
      "15\n",
      "1182 [[ 846.19215686  635.99607843  316.55686275]]\n"
     ]
    },
    {
     "data": {
      "text/plain": [
       "(16384, 3)"
      ]
     },
     "execution_count": 15,
     "metadata": {},
     "output_type": "execute_result"
    }
   ],
   "source": [
    "initial_centroids=init_cent(X,16)\n",
    "idx, centroids = runKmeans(X, initial_centroids, 10)\n",
    "idx=find_closest_centroids(X, centroids)\n",
    "X_rec=centroids[idx.astype(int),:]\n",
    "X_rec.shape"
   ]
  },
  {
   "cell_type": "code",
   "execution_count": 16,
   "metadata": {},
   "outputs": [
    {
     "data": {
      "text/plain": [
       "(128, 128, 3)"
      ]
     },
     "execution_count": 16,
     "metadata": {},
     "output_type": "execute_result"
    }
   ],
   "source": [
    "X_rec=np.reshape(X_rec,(A.shape[0],A.shape[1],A.shape[2]))\n",
    "X_rec.shape"
   ]
  },
  {
   "cell_type": "code",
   "execution_count": 17,
   "metadata": {},
   "outputs": [
    {
     "data": {
      "text/plain": [
       "<matplotlib.image.AxesImage at 0xc161c18>"
      ]
     },
     "execution_count": 17,
     "metadata": {},
     "output_type": "execute_result"
    },
    {
     "data": {
      "image/png": "[encoded data removed]",
      "text/plain": [
       "<matplotlib.figure.Figure at 0xbf0ea20>"
      ]
     },
     "metadata": {},
     "output_type": "display_data"
    }
   ],
   "source": [
    "plt.imshow(X_rec)"
   ]
  },
  {
   "cell_type": "code",
   "execution_count": 18,
   "metadata": {},
   "outputs": [
    {
     "data": {
      "text/plain": [
       "{'X': array([[ 3.38156267,  3.38911268],\n",
       "        [ 4.52787538,  5.8541781 ],\n",
       "        [ 2.65568187,  4.41199472],\n",
       "        [ 2.76523467,  3.71541365],\n",
       "        [ 2.84656011,  4.17550645],\n",
       "        [ 3.89067196,  6.48838087],\n",
       "        [ 3.47580524,  3.63284876],\n",
       "        [ 5.91129845,  6.68076853],\n",
       "        [ 3.92889397,  5.09844661],\n",
       "        [ 4.56183537,  5.62329929],\n",
       "        [ 4.57407171,  5.39765069],\n",
       "        [ 4.37173356,  5.46116549],\n",
       "        [ 4.19169388,  4.95469359],\n",
       "        [ 5.24408518,  4.66148767],\n",
       "        [ 2.8358402 ,  3.76801716],\n",
       "        [ 5.63526969,  6.31211438],\n",
       "        [ 4.68632968,  5.6652411 ],\n",
       "        [ 2.85051337,  4.62645627],\n",
       "        [ 5.1101573 ,  7.36319662],\n",
       "        [ 5.18256377,  4.64650909],\n",
       "        [ 5.70732809,  6.68103995],\n",
       "        [ 3.57968458,  4.80278074],\n",
       "        [ 5.63937773,  6.12043594],\n",
       "        [ 4.26346851,  4.68942896],\n",
       "        [ 2.53651693,  3.88449078],\n",
       "        [ 3.22382902,  4.94255585],\n",
       "        [ 4.92948801,  5.95501971],\n",
       "        [ 5.79295774,  5.10839305],\n",
       "        [ 2.81684824,  4.81895769],\n",
       "        [ 3.88882414,  5.10036564],\n",
       "        [ 3.34323419,  5.89301345],\n",
       "        [ 5.87973414,  5.52141664],\n",
       "        [ 3.10391912,  3.85710242],\n",
       "        [ 5.33150572,  4.68074235],\n",
       "        [ 3.37542687,  4.56537852],\n",
       "        [ 4.77667888,  6.25435039],\n",
       "        [ 2.6757463 ,  3.73096988],\n",
       "        [ 5.50027665,  5.67948113],\n",
       "        [ 1.79709714,  3.24753885],\n",
       "        [ 4.3225147 ,  5.11110472],\n",
       "        [ 4.42100445,  6.02563978],\n",
       "        [ 3.17929886,  4.43686032],\n",
       "        [ 3.03354125,  3.97879278],\n",
       "        [ 4.6093482 ,  5.879792  ],\n",
       "        [ 2.96378859,  3.30024835],\n",
       "        [ 3.97176248,  5.40773735],\n",
       "        [ 1.18023321,  2.87869409],\n",
       "        [ 1.91895045,  5.07107848],\n",
       "        [ 3.95524687,  4.5053271 ],\n",
       "        [ 5.11795499,  6.08507386]]),\n",
       " '__globals__': [],\n",
       " '__header__': b'MATLAB 5.0 MAT-file, Platform: PCWIN64, Created on: Mon Nov 14 22:41:44 2011',\n",
       " '__version__': '1.0'}"
      ]
     },
     "execution_count": 18,
     "metadata": {},
     "output_type": "execute_result"
    }
   ],
   "source": [
    "data = loadmat('data/ex7data1.mat')\n",
    "data"
   ]
  },
  {
   "cell_type": "code",
   "execution_count": 19,
   "metadata": {},
   "outputs": [
    {
     "data": {
      "text/plain": [
       "<matplotlib.collections.PathCollection at 0xc1b05c0>"
      ]
     },
     "execution_count": 19,
     "metadata": {},
     "output_type": "execute_result"
    },
    {
     "data": {
      "image/png": "[encoded data removed]",
      "text/plain": [
       "<matplotlib.figure.Figure at 0xc1b0da0>"
      ]
     },
     "metadata": {},
     "output_type": "display_data"
    }
   ],
   "source": [
    "X = data['X']\n",
    "\n",
    "fig, ax = plt.subplots(figsize=(12,8))\n",
    "ax.scatter(X[:, 0], X[:, 1])"
   ]
  },
  {
   "cell_type": "code",
   "execution_count": 20,
   "metadata": {
    "collapsed": true
   },
   "outputs": [],
   "source": [
    "def pca(X):\n",
    "    X=(X-np.mean(X))/np.std(X)\n",
    "    X=np.matrix(X)\n",
    "    m=X.shape[0]\n",
    "    cov_m=(X.T*X)/m\n",
    "    U,S,V=np.linalg.svd(cov_m)\n",
    "    return U, S, V"
   ]
  },
  {
   "cell_type": "code",
   "execution_count": 21,
   "metadata": {},
   "outputs": [
    {
     "data": {
      "text/plain": [
       "((2, 2), (2,), (2, 2))"
      ]
     },
     "execution_count": 21,
     "metadata": {},
     "output_type": "execute_result"
    }
   ],
   "source": [
    "U,S,V=pca(X)\n",
    "U.shape,S.shape,V.shape"
   ]
  },
  {
   "cell_type": "code",
   "execution_count": 22,
   "metadata": {
    "collapsed": true
   },
   "outputs": [],
   "source": [
    "def project_data(X,U,K):\n",
    "    Z=np.dot(X,U[:,:K])\n",
    "    return Z"
   ]
  },
  {
   "cell_type": "code",
   "execution_count": 23,
   "metadata": {},
   "outputs": [
    {
     "data": {
      "text/plain": [
       "(50, 1)"
      ]
     },
     "execution_count": 23,
     "metadata": {},
     "output_type": "execute_result"
    }
   ],
   "source": [
    "Z = project_data(X, U, 1)\n",
    "Z.shape"
   ]
  },
  {
   "cell_type": "code",
   "execution_count": 24,
   "metadata": {
    "collapsed": true
   },
   "outputs": [],
   "source": [
    "def recover_data(Z,U,K):\n",
    "    X_rec=np.dot(Z,U[:,:K].T)\n",
    "    return X_rec"
   ]
  },
  {
   "cell_type": "code",
   "execution_count": 25,
   "metadata": {},
   "outputs": [
    {
     "data": {
      "text/plain": [
       "(50, 2)"
      ]
     },
     "execution_count": 25,
     "metadata": {},
     "output_type": "execute_result"
    }
   ],
   "source": [
    "X_rec = recover_data(Z, U, 1)\n",
    "X_rec.shape"
   ]
  },
  {
   "cell_type": "code",
   "execution_count": 33,
   "metadata": {
    "scrolled": true
   },
   "outputs": [
    {
     "name": "stdout",
     "output_type": "stream",
     "text": [
      "(50, 2)\n"
     ]
    },
    {
     "data": {
      "text/plain": [
       "<matplotlib.collections.PathCollection at 0xdb86f28>"
      ]
     },
     "execution_count": 33,
     "metadata": {},
     "output_type": "execute_result"
    },
    {
     "data": {
      "image/png": "[encoded data removed]",
      "text/plain": [
       "<matplotlib.figure.Figure at 0xd9dd2e8>"
      ]
     },
     "metadata": {},
     "output_type": "display_data"
    }
   ],
   "source": [
    "fig, ax = plt.subplots(figsize=(12,8))\n",
    "print(X_rec.shape)\n",
    "ax.scatter([X_rec[:, 0]], [X_rec[:, 1]])"
   ]
  },
  {
   "cell_type": "code",
   "execution_count": 36,
   "metadata": {},
   "outputs": [
    {
     "data": {
      "text/plain": [
       "(5000, 1024)"
      ]
     },
     "execution_count": 36,
     "metadata": {},
     "output_type": "execute_result"
    }
   ],
   "source": [
    "faces = loadmat('data/ex7faces.mat')\n",
    "X = faces['X']\n",
    "X.shape"
   ]
  },
  {
   "cell_type": "code",
   "execution_count": 38,
   "metadata": {
    "collapsed": true
   },
   "outputs": [],
   "source": [
    "U, S, V = pca(X)\n",
    "Z = project_data(X, U, 100)"
   ]
  },
  {
   "cell_type": "code",
   "execution_count": 39,
   "metadata": {},
   "outputs": [
    {
     "data": {
      "text/plain": [
       "<matplotlib.image.AxesImage at 0xe082da0>"
      ]
     },
     "execution_count": 39,
     "metadata": {},
     "output_type": "execute_result"
    },
    {
     "data": {
      "image/png": "[encoded data removed]",
      "text/plain": [
       "<matplotlib.figure.Figure at 0xc1d15c0>"
      ]
     },
     "metadata": {},
     "output_type": "display_data"
    }
   ],
   "source": [
    "X_recovered = recover_data(Z, U, 100)\n",
    "face = np.reshape(X_recovered[3,:], (32, 32))\n",
    "plt.imshow(face)"
   ]
  }
 ],
 "metadata": {
  "kernelspec": {
   "display_name": "Python 3",
   "language": "python",
   "name": "python3"
  },
  "language_info": {
   "codemirror_mode": {
    "name": "ipython",
    "version": 3
   },
   "file_extension": ".py",
   "mimetype": "text/x-python",
   "name": "python",
   "nbconvert_exporter": "python",
   "pygments_lexer": "ipython3",
   "version": "3.6.1"
  }
 },
 "nbformat": 4,
 "nbformat_minor": 2
}
