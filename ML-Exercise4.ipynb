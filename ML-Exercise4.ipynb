{
 "cells": [
  {
   "cell_type": "markdown",
   "metadata": {},
   "source": [
    "# Machine Learning Exercise 4 - Neural Networks"
   ]
  },
  {
   "cell_type": "markdown",
   "metadata": {},
   "source": [
    "This notebook covers a Python-based solution for the fourth programming exercise of the machine learning class on Coursera.  Please refer to the [exercise text](https://github.com/jdwittenauer/ipython-notebooks/blob/master/exercises/ML/ex4.pdf) for detailed descriptions and equations."
   ]
  },
  {
   "cell_type": "markdown",
   "metadata": {},
   "source": [
    "For this exercise we'll again tackle the hand-written digits data set, this time using a feed-forward neural network with backpropagation.  We'll implement un-regularized and regularized versions of the neural network cost function and gradient computation via the backpropagation algorithm.  We'll also implement random weight initialization and a method to use the network to make predictions.\n",
    "\n",
    "Since the data set is the same one we used in exercise 3, we'll re-use the code to load the data."
   ]
  },
  {
   "cell_type": "code",
   "execution_count": 1,
   "metadata": {
    "scrolled": true
   },
   "outputs": [
    {
     "data": {
      "text/plain": [
       "{'X': array([[ 0.,  0.,  0., ...,  0.,  0.,  0.],\n",
       "        [ 0.,  0.,  0., ...,  0.,  0.,  0.],\n",
       "        [ 0.,  0.,  0., ...,  0.,  0.,  0.],\n",
       "        ..., \n",
       "        [ 0.,  0.,  0., ...,  0.,  0.,  0.],\n",
       "        [ 0.,  0.,  0., ...,  0.,  0.,  0.],\n",
       "        [ 0.,  0.,  0., ...,  0.,  0.,  0.]]),\n",
       " '__globals__': [],\n",
       " '__header__': b'MATLAB 5.0 MAT-file, Platform: GLNXA64, Created on: Sun Oct 16 13:09:09 2011',\n",
       " '__version__': '1.0',\n",
       " 'y': array([[10],\n",
       "        [10],\n",
       "        [10],\n",
       "        ..., \n",
       "        [ 9],\n",
       "        [ 9],\n",
       "        [ 9]], dtype=uint8)}"
      ]
     },
     "execution_count": 1,
     "metadata": {},
     "output_type": "execute_result"
    }
   ],
   "source": [
    "import numpy as np\n",
    "import pandas as pd\n",
    "import matplotlib.pyplot as plt\n",
    "from scipy.io import loadmat\n",
    "import timeit as time\n",
    "%matplotlib inline\n",
    "\n",
    "data = loadmat('data/ex3data1.mat')\n",
    "data"
   ]
  },
  {
   "cell_type": "markdown",
   "metadata": {},
   "source": [
    "Since we're going to need these later (and will use them often), let's create some useful variables up-front."
   ]
  },
  {
   "cell_type": "code",
   "execution_count": 2,
   "metadata": {},
   "outputs": [
    {
     "data": {
      "text/plain": [
       "((5000, 400), (5000, 1))"
      ]
     },
     "execution_count": 2,
     "metadata": {},
     "output_type": "execute_result"
    }
   ],
   "source": [
    "X = data['X']\n",
    "y = data['y']\n",
    "\n",
    "X.shape, y.shape"
   ]
  },
  {
   "cell_type": "markdown",
   "metadata": {},
   "source": [
    "We're also going to need to one-hot encode our y labels.  One-hot encoding turns a class label n (out of k classes) into a vector of length k where index n is \"hot\" (1) while the rest are zero.  Scikit-learn has a built in utility we can use for this."
   ]
  },
  {
   "cell_type": "code",
   "execution_count": 3,
   "metadata": {},
   "outputs": [
    {
     "data": {
      "text/plain": [
       "(5000, 10)"
      ]
     },
     "execution_count": 3,
     "metadata": {},
     "output_type": "execute_result"
    }
   ],
   "source": [
    "from sklearn.preprocessing import OneHotEncoder\n",
    "encoder = OneHotEncoder(sparse=False)\n",
    "y_onehot = encoder.fit_transform(y)\n",
    "y_onehot.shape"
   ]
  },
  {
   "cell_type": "code",
   "execution_count": 4,
   "metadata": {},
   "outputs": [
    {
     "data": {
      "text/plain": [
       "(array([10], dtype=uint8),\n",
       " array([ 0.,  0.,  0.,  0.,  0.,  0.,  0.,  0.,  0.,  1.]))"
      ]
     },
     "execution_count": 4,
     "metadata": {},
     "output_type": "execute_result"
    }
   ],
   "source": [
    "y[0], y_onehot[0,:]"
   ]
  },
  {
   "cell_type": "markdown",
   "metadata": {},
   "source": [
    "The neural network we're going to build for this exercise has an input layer matching the size of our instance data (400 + the bias unit), a hidden layer with 25 units (26 with the bias unit), and an output layer with 10 units corresponding to our one-hot encoding for the class labels.  For additional details and an image of the network architecture, please refer to the PDF in the \"exercises\" folder.\n",
    "\n",
    "The first piece we need to implement is a cost function to evaluate the loss for a given set of network parameters.  The source mathematical function is in the exercise text (and looks pretty intimidating).  Here are the functions required to compute the cost."
   ]
  },
  {
   "cell_type": "code",
   "execution_count": 5,
   "metadata": {
    "collapsed": true
   },
   "outputs": [],
   "source": [
    "def sigmoid(z):\n",
    "    return 1 / (1 + np.exp(-z))"
   ]
  },
  {
   "cell_type": "code",
   "execution_count": 6,
   "metadata": {
    "collapsed": true
   },
   "outputs": [],
   "source": [
    "def forward_propagate(X, theta1, theta2):\n",
    "    m = X.shape[0]\n",
    "    \n",
    "    a1 = np.insert(X, 0, values=np.ones(m), axis=1)\n",
    "    z2 = a1 * theta1.T\n",
    "    a2 = np.insert(sigmoid(z2), 0, values=np.ones(m), axis=1)\n",
    "    z3 = a2 * theta2.T\n",
    "    h = sigmoid(z3)\n",
    "    \n",
    "    return a1, z2, a2, z3, h"
   ]
  },
  {
   "cell_type": "code",
   "execution_count": 7,
   "metadata": {},
   "outputs": [],
   "source": [
    "def cost(params, input_size, hidden_size, num_labels, X, y, learning_rate):\n",
    "    m = X.shape[0]\n",
    "    X = np.matrix(X)\n",
    "    y = np.matrix(y)\n",
    "    \n",
    "    # reshape the parameter array into parameter matrices for each layer\n",
    "    theta1 = np.matrix(np.reshape(params[:hidden_size * (input_size + 1)], (hidden_size, (input_size + 1))))\n",
    "    theta2 = np.matrix(np.reshape(params[hidden_size * (input_size + 1):], (num_labels, (hidden_size + 1))))\n",
    "    \n",
    "    # run the feed-forward pass\n",
    "    a1, z2, a2, z3, h = forward_propagate(X, theta1, theta2)\n",
    "    \n",
    "    # compute the cost\n",
    "    J = 0\n",
    "    for i in range(m):\n",
    "        first_term = np.multiply(-y[i,:], np.log(h[i,:]))\n",
    "        second_term = np.multiply((1 - y[i,:]), np.log(1 - h[i,:]))\n",
    "        J += np.sum(first_term - second_term)\n",
    "    J = J / m\n",
    "    \n",
    "    return J"
   ]
  },
  {
   "cell_type": "markdown",
   "metadata": {},
   "source": [
    "We've used the sigmoid function before so that's not new.  The forward-propagate function computes the hypothesis for each training instance given the current parameters.  It's output shape should match the same of our one-hot encoding for y.  We can test this real quick to convince ourselves that it's working as expected (the intermediate steps are also returned as these will be useful later)."
   ]
  },
  {
   "cell_type": "code",
   "execution_count": 8,
   "metadata": {},
   "outputs": [
    {
     "data": {
      "text/plain": [
       "((25, 401), (10, 26), (10285,))"
      ]
     },
     "execution_count": 8,
     "metadata": {},
     "output_type": "execute_result"
    }
   ],
   "source": [
    "# initial setup\n",
    "input_size = 400\n",
    "hidden_size = 25\n",
    "num_labels = 10\n",
    "learning_rate = 1\n",
    "\n",
    "# randomly initialize a parameter array of the size of the full network's parameters\n",
    "params = (np.random.random(size=hidden_size * (input_size + 1) + num_labels * (hidden_size + 1)) - 0.5) * 0.25\n",
    "\n",
    "m = X.shape[0]\n",
    "X = np.matrix(X)\n",
    "y = np.matrix(y)\n",
    "\n",
    "# unravel the parameter array into parameter matrices for each layer\n",
    "theta1 = np.matrix(np.reshape(params[:hidden_size * (input_size + 1)], (hidden_size, (input_size + 1))))\n",
    "theta2 = np.matrix(np.reshape(params[hidden_size * (input_size + 1):], (num_labels, (hidden_size + 1))))\n",
    "\n",
    "theta1.shape, theta2.shape,params.shape"
   ]
  },
  {
   "cell_type": "code",
   "execution_count": 9,
   "metadata": {},
   "outputs": [
    {
     "data": {
      "text/plain": [
       "(matrix([[ 1.,  0.,  0., ...,  0.,  0.,  0.],\n",
       "         [ 1.,  0.,  0., ...,  0.,  0.,  0.],\n",
       "         [ 1.,  0.,  0., ...,  0.,  0.,  0.],\n",
       "         ..., \n",
       "         [ 1.,  0.,  0., ...,  0.,  0.,  0.],\n",
       "         [ 1.,  0.,  0., ...,  0.,  0.,  0.],\n",
       "         [ 1.,  0.,  0., ...,  0.,  0.,  0.]]),\n",
       " matrix([[ 0.19622894, -0.13047536,  0.19155437, ..., -0.20058157,\n",
       "           0.89692769, -0.23610815],\n",
       "         [ 0.7628251 ,  0.18637257,  0.25304883, ..., -0.47493434,\n",
       "           0.9019718 , -0.25442792],\n",
       "         [ 0.36873055,  0.581208  , -0.02902782, ..., -0.74915792,\n",
       "           0.05622179, -0.31233656],\n",
       "         ..., \n",
       "         [ 0.44004104, -0.09633568, -0.10423025, ..., -0.68000516,\n",
       "           0.16426679, -0.05635936],\n",
       "         [ 1.197337  ,  0.08011596, -0.20942027, ..., -1.23623973,\n",
       "           0.3540054 , -0.25757584],\n",
       "         [-0.03655909, -0.06388107, -0.02421909, ...,  0.1491482 ,\n",
       "           0.50863908, -0.91946105]]),\n",
       " matrix([[ 1.        ,  0.54890042,  0.46742736, ...,  0.45002206,\n",
       "           0.71031773,  0.44124566],\n",
       "         [ 1.        ,  0.68196678,  0.54645874, ...,  0.38344902,\n",
       "           0.71135454,  0.43673394],\n",
       "         [ 1.        ,  0.5911522 ,  0.64134532, ...,  0.32100481,\n",
       "           0.51405175,  0.42254451],\n",
       "         ..., \n",
       "         [ 1.        ,  0.60826881,  0.47593469, ...,  0.33626015,\n",
       "           0.5409746 ,  0.48591389],\n",
       "         [ 1.        ,  0.76805071,  0.52001828, ...,  0.22509119,\n",
       "           0.58758854,  0.43595971],\n",
       "         [ 1.        ,  0.49086124,  0.48403516, ...,  0.53721808,\n",
       "           0.62448739,  0.28506772]]),\n",
       " matrix([[ 0.13674552, -0.05235706,  0.09030596, ...,  0.21355463,\n",
       "          -0.23772144,  0.04602341],\n",
       "         [ 0.11310754, -0.06443233,  0.06808891, ...,  0.20665748,\n",
       "          -0.18741506,  0.03558538],\n",
       "         [ 0.13769682, -0.03478083,  0.1196203 , ...,  0.22227683,\n",
       "          -0.21464882, -0.03091879],\n",
       "         ..., \n",
       "         [ 0.05731298, -0.05980959,  0.07373933, ...,  0.13367549,\n",
       "          -0.20624838,  0.00816176],\n",
       "         [ 0.0672684 , -0.01929984,  0.09095594, ...,  0.20882438,\n",
       "          -0.22607274,  0.04159961],\n",
       "         [ 0.1347027 , -0.09025344,  0.06519126, ...,  0.15526923,\n",
       "          -0.2246231 , -0.04858196]]),\n",
       " matrix([[ 0.53413321,  0.48691372,  0.52256116, ...,  0.55318668,\n",
       "           0.44084794,  0.51150382],\n",
       "         [ 0.52824678,  0.48389749,  0.51701566, ...,  0.55148128,\n",
       "           0.4532829 ,  0.50889541],\n",
       "         [ 0.53436992,  0.49130567,  0.52986947, ...,  0.55534154,\n",
       "           0.44654289,  0.49227092],\n",
       "         ..., \n",
       "         [ 0.51432432,  0.48505206,  0.51842648, ...,  0.5333692 ,\n",
       "           0.44861991,  0.50204043],\n",
       "         [ 0.51681076,  0.49517519,  0.52272332, ...,  0.5520172 ,\n",
       "           0.44372131,  0.5103984 ],\n",
       "         [ 0.53362485,  0.47745194,  0.51629204, ...,  0.53873951,\n",
       "           0.44407915,  0.4878569 ]]))"
      ]
     },
     "execution_count": 9,
     "metadata": {},
     "output_type": "execute_result"
    }
   ],
   "source": [
    "np.set_printoptions(threshold=1500)\n",
    "a1, z2, a2, z3, h = forward_propagate(X, theta1, theta2)\n",
    "a1, z2, a2, z3, h"
   ]
  },
  {
   "cell_type": "markdown",
   "metadata": {},
   "source": [
    "The cost function, after computing the hypothesis matrix h, applies the cost equation to compute the total error between y and h."
   ]
  },
  {
   "cell_type": "code",
   "execution_count": null,
   "metadata": {
    "collapsed": true
   },
   "outputs": [],
   "source": []
  },
  {
   "cell_type": "markdown",
   "metadata": {},
   "source": [
    "Our next step is to add regularization to the cost function.  If you're following along in the exercise text and thought the last equation looked ugly, this one looks REALLY ugly.  It's actually not as complicated as it looks though - in fact, the regularization term is simply an addition to the cost we already computed.  Here's the revised cost function."
   ]
  },
  {
   "cell_type": "code",
   "execution_count": 233,
   "metadata": {
    "collapsed": true
   },
   "outputs": [],
   "source": [
    "def cost(params, input_size, hidden_size, num_labels, X, y, learning_rate):\n",
    "    m = X.shape[0]\n",
    "    X = np.matrix(X)\n",
    "    y = np.matrix(y)\n",
    "    \n",
    "    # reshape the parameter array into parameter matrices for each layer\n",
    "    theta1 = np.matrix(np.reshape(params[:hidden_size * (input_size + 1)], (hidden_size, (input_size + 1))))\n",
    "    theta2 = np.matrix(np.reshape(params[hidden_size * (input_size + 1):], (num_labels, (hidden_size + 1))))\n",
    "    \n",
    "    # run the feed-forward pass\n",
    "    a1, z2, a2, z3, h = forward_propagate(X, theta1, theta2)\n",
    "    \n",
    "    # compute the cost\n",
    "    J = 0\n",
    "    for i in range(m):\n",
    "        first_term = np.multiply(-y[i,:], np.log(h[i,:]))\n",
    "        second_term = np.multiply((1 - y[i,:]), np.log(1 - h[i,:]))\n",
    "        J += np.sum(first_term - second_term)\n",
    "    \n",
    "    J = J / m\n",
    "    \n",
    "    # add the cost regularization term\n",
    "    reg1=np.sum(np.power(theta1[:,1:], 2))\n",
    "    reg2=np.sum(np.power(theta2[:,1:], 2))\n",
    "    reg=(reg1+reg2)*(float(learning_rate) / (2 * m))\n",
    "    J += reg\n",
    "    return J"
   ]
  },
  {
   "cell_type": "code",
   "execution_count": 11,
   "metadata": {},
   "outputs": [
    {
     "data": {
      "text/plain": [
       "6.7060123644301086"
      ]
     },
     "execution_count": 11,
     "metadata": {},
     "output_type": "execute_result"
    }
   ],
   "source": [
    "\n",
    "cost(params, input_size, hidden_size, num_labels, X, y_onehot, learning_rate)\n"
   ]
  },
  {
   "cell_type": "markdown",
   "metadata": {},
   "source": [
    "Next up is the backpropagation algorithm.  Backpropagation computes the parameter updates that will reduce the error of the network on the training data.  The first thing we need is a function that computes the gradient of the sigmoid function we created earlier."
   ]
  },
  {
   "cell_type": "code",
   "execution_count": 12,
   "metadata": {
    "collapsed": true
   },
   "outputs": [],
   "source": [
    "def sigmoid_gradient(z):\n",
    "    return np.multiply(sigmoid(z), (1 - sigmoid(z)))"
   ]
  },
  {
   "cell_type": "markdown",
   "metadata": {},
   "source": [
    "Now we're ready to implement backpropagation to compute the gradients.  Since the computations required for backpropagation are a superset of those required in the cost function, we're actually going to extend the cost function to also perform backpropagation and return both the cost and the gradients."
   ]
  },
  {
   "cell_type": "code",
   "execution_count": 258,
   "metadata": {
    "collapsed": true
   },
   "outputs": [],
   "source": [
    "def backprop(params, input_size, hidden_size, num_labels, X, y, learning_rate):\n",
    "    m = X.shape[0]\n",
    "    X = np.matrix(X)\n",
    "    y = np.matrix(y)\n",
    "    \n",
    "    # reshape the parameter array into parameter matrices for each layer\n",
    "    theta1 = np.matrix(np.reshape(params[:hidden_size * (input_size + 1)], (hidden_size, (input_size + 1))))\n",
    "    theta2 = np.matrix(np.reshape(params[hidden_size * (input_size + 1):], (num_labels, (hidden_size + 1))))\n",
    "    \n",
    "    # run the feed-forward pass\n",
    "    a1, z2, a2, z3, h = forward_propagate(X, theta1, theta2)\n",
    "    \n",
    "    # initializations\n",
    "    J = 0\n",
    "    delta1 = np.zeros(theta1.shape)  # (25, 401)\n",
    "    delta2 = np.zeros(theta2.shape)  # (10, 26)\n",
    "    \n",
    "    # compute the cost\n",
    "    for i in range(m):\n",
    "        first_term = np.multiply(-y[i,:], np.log(h[i,:]))\n",
    "        second_term = np.multiply((1 - y[i,:]), np.log(1 - h[i,:]))\n",
    "        J += np.sum(first_term - second_term)\n",
    "    \n",
    "    J = J / m\n",
    "    \n",
    "    # add the cost regularization term\n",
    "    J += (float(learning_rate) / (2 * m)) * (np.sum(np.power(theta1[:,1:], 2)) + np.sum(np.power(theta2[:,1:], 2)))\n",
    "    \n",
    "    # perform backpropagation\n",
    "    for t in range(m):\n",
    "        a1t = a1[t,:]  # (1, 401)\n",
    "        z2t = z2[t,:]  # (1, 25)\n",
    "        a2t = a2[t,:]  # (1, 26)\n",
    "        ht = h[t,:]  # (1, 10)\n",
    "        yt = y[t,:]  # (1, 10)\n",
    "        \n",
    "        d3t = ht - yt  # (1, 10)\n",
    "        \n",
    "        z2t = np.insert(z2t, 0, values=np.ones(1))  # (1, 26)\n",
    "        d2t = np.multiply((theta2.T * d3t.T).T, sigmoid_gradient(z2t))  # (1, 26)\n",
    "        \n",
    "        delta1 = delta1 + (d2t[:,1:]).T * a1t\n",
    "        delta2 = delta2 + d3t.T * a2t\n",
    "        \n",
    "    delta1 = delta1 / m\n",
    "    delta2 = delta2 / m\n",
    "\n",
    "    \n",
    "    # unravel the gradient matrices into a single array\n",
    "    grad = np.concatenate((np.ravel(delta1), np.ravel(delta2)))\n",
    "    print(theta1)\n",
    "    print(theta2)\n",
    "    return J, grad"
   ]
  },
  {
   "cell_type": "markdown",
   "metadata": {},
   "source": [
    "The hardest part of the backprop computation (other than understanding WHY we're doing all these calculations) is getting the matrix dimensions right.  By the way, if you find it confusing when to use A * B vs. np.multiply(A, B), you're not alone.  Basically the former is a matrix multiplication and the latter is an element-wise multiplication (unless A or B is a scalar value, in which case it doesn't matter).  I wish there was a more concise syntax for this (maybe there is and I'm just not aware of it).\n",
    "\n",
    "Anyway, let's test it out to make sure the function returns what we're expecting it to."
   ]
  },
  {
   "cell_type": "code",
   "execution_count": 259,
   "metadata": {
    "scrolled": true
   },
   "outputs": [
    {
     "name": "stdout",
     "output_type": "stream",
     "text": [
      "[[-0.06124666 -0.03144166 -0.00816096 ...,  0.08108306  0.03932542\n",
      "  -0.069148  ]\n",
      " [-0.00789932  0.01008633  0.0014997  ...,  0.0294774  -0.01785207\n",
      "   0.01312921]\n",
      " [ 0.11872303  0.03244158  0.03351893 ..., -0.05817143  0.10872614\n",
      "   0.09003263]\n",
      " ..., \n",
      " [-0.1164837  -0.01763754 -0.02399969 ..., -0.12298011  0.00860938\n",
      "  -0.01931656]\n",
      " [-0.02577202  0.05244691  0.02578078 ...,  0.00342067  0.07097399\n",
      "  -0.10100697]\n",
      " [-0.04787312  0.09544654 -0.10396153 ...,  0.04978863 -0.06429864\n",
      "   0.07719575]]\n",
      "[[ 0.03139574 -0.11619977  0.09055263  0.11367523 -0.02810027 -0.07416975\n",
      "   0.06654195  0.07941309  0.06192668 -0.07607016  0.02320815 -0.05901696\n",
      "  -0.08963674 -0.0793658  -0.10057663  0.07601292  0.11767256 -0.02758697\n",
      "  -0.06904446  0.04546001 -0.12005058 -0.0114708  -0.0788806  -0.11757853\n",
      "   0.05909917  0.06305838]\n",
      " [-0.02953104  0.04906231 -0.11920687  0.09902354 -0.12345293 -0.11025249\n",
      "  -0.08402447  0.05014417  0.02956056 -0.11338511  0.01970807 -0.01621415\n",
      "  -0.01337943  0.0108406   0.09618195 -0.02881097  0.03423149  0.04491209\n",
      "   0.00522832 -0.02554296  0.07342976  0.08495781 -0.1166557   0.08291632\n",
      "   0.01576803  0.00146384]\n",
      " [-0.01608213  0.08889489  0.12156971  0.04428361  0.07572957  0.02259202\n",
      "  -0.11065316 -0.08111677  0.01222525 -0.07358157 -0.02621503 -0.00062337\n",
      "  -0.05913762 -0.09633477  0.07047431 -0.03639992 -0.08513849 -0.0719833\n",
      "   0.09959964  0.11379264 -0.00420414 -0.08241438  0.07696201 -0.05596574\n",
      "   0.06705503 -0.06426473]\n",
      " [ 0.0970957   0.03045572  0.03958241 -0.04188568 -0.05144029 -0.02193918\n",
      "   0.00555554  0.01095957  0.02291223 -0.05735951 -0.1187383  -0.07775192\n",
      "   0.05603333 -0.0089224   0.03621635 -0.02204201  0.01474452 -0.12192289\n",
      "   0.09476798 -0.10760957 -0.05555507 -0.04728963  0.03069726  0.00727495\n",
      "   0.11736359 -0.07178149]\n",
      " [ 0.06151299 -0.11142896  0.05721969  0.03340022  0.05941673 -0.07828137\n",
      "  -0.04303627  0.06928232  0.03709016 -0.10988311 -0.11172561  0.05979093\n",
      "   0.02462377 -0.00622157  0.11241441  0.05217586 -0.01583135 -0.06229467\n",
      "   0.00533686 -0.03085699 -0.07945549  0.08410549  0.07857853 -0.09437796\n",
      "   0.01738289  0.01774363]\n",
      " [-0.04114492 -0.06055108  0.01716424 -0.04525047 -0.04442431  0.11186972\n",
      "  -0.10445343 -0.02780355 -0.05787746  0.06179705 -0.05786268  0.03324948\n",
      "   0.06546968 -0.06356834 -0.11837781  0.08547344 -0.08746657  0.03310744\n",
      "  -0.06042149 -0.11035387 -0.03820281  0.02951065 -0.06234673 -0.03831513\n",
      "   0.09511136  0.04551645]\n",
      " [ 0.00361472 -0.00452259 -0.07191063  0.03409686 -0.08769349 -0.07181173\n",
      "   0.04101305 -0.08506363 -0.10629222 -0.09527832  0.10017978 -0.01598979\n",
      "   0.0208972   0.04189094  0.09631766  0.06744061  0.0723656   0.12306451\n",
      "  -0.05780933 -0.01983977 -0.0870278   0.05426992  0.04683339 -0.04168061\n",
      "   0.04265143  0.0243892 ]\n",
      " [-0.11955835 -0.03367757  0.11491328 -0.05900301  0.08475176  0.12412606\n",
      "  -0.00633441  0.06121098 -0.11440566  0.06929962 -0.07216938  0.08406963\n",
      "  -0.07226388  0.01081292 -0.00566142 -0.01227996  0.00643291 -0.06338003\n",
      "  -0.05815502  0.01828996 -0.07402625  0.01973695 -0.02697752  0.06179168\n",
      "   0.06874113  0.09213831]\n",
      " [-0.08750169 -0.02972191 -0.06939149  0.10351894 -0.03701045 -0.03915276\n",
      "   0.09667413  0.08110893 -0.00533589 -0.07573576  0.06521124 -0.03166498\n",
      "  -0.12458367  0.0135042   0.08137839 -0.03746818  0.0137247   0.1187646\n",
      "   0.09291247  0.11305655  0.06989751  0.07454455 -0.10231036 -0.05991118\n",
      "  -0.04940126 -0.10429521]\n",
      " [-0.09123917 -0.09707246 -0.03394725  0.03242359 -0.00250239  0.03830404\n",
      "  -0.12223393  0.02894152  0.11687347 -0.09363723 -0.00112416 -0.00434883\n",
      "  -0.08074222 -0.03740137 -0.10110185  0.10588005 -0.05422984 -0.01089162\n",
      "   0.01975272 -0.05018655  0.03044235  0.03243016  0.08482631  0.10812331\n",
      "  -0.07410688 -0.0882205 ]]\n"
     ]
    }
   ],
   "source": [
    "J, grad = backprop(params, input_size, hidden_size, num_labels, X, y_onehot, learning_rate)\n"
   ]
  },
  {
   "cell_type": "markdown",
   "metadata": {},
   "source": [
    "We still have one more modification to make to the backprop function - adding regularization to the gradient calculations.  The final regularized version is below."
   ]
  },
  {
   "cell_type": "code",
   "execution_count": 262,
   "metadata": {
    "collapsed": true
   },
   "outputs": [],
   "source": [
    "def backprop(params, input_size, hidden_size, num_labels, X, y, learning_rate):\n",
    "    m = X.shape[0]\n",
    "    X = np.matrix(X)\n",
    "    y = np.matrix(y)\n",
    "    \n",
    "    # reshape the parameter array into parameter matrices for each layer\n",
    "    theta1 = np.matrix(np.reshape(params[:hidden_size * (input_size + 1)], (hidden_size, (input_size + 1))))\n",
    "    theta2 = np.matrix(np.reshape(params[hidden_size * (input_size + 1):], (num_labels, (hidden_size + 1))))\n",
    "    \n",
    "    # run the feed-forward pass\n",
    "    a1, z2, a2, z3, h = forward_propagate(X, theta1, theta2)\n",
    "    \n",
    "    # initializations\n",
    "    J = 0\n",
    "    delta1 = np.zeros(theta1.shape)  # (25, 401)\n",
    "    delta2 = np.zeros(theta2.shape)  # (10, 26)\n",
    "    J=cost(params, input_size, hidden_size, num_labels, X, y_onehot, learning_rate)\n",
    "\n",
    "    # perform backpropagation\n",
    "    for t in range(m):\n",
    "        a1t = a1[t,:]  # (1, 401)\n",
    "        z2t = z2[t,:]  # (1, 25)\n",
    "        a2t = a2[t,:]  # (1, 26)\n",
    "        ht = h[t,:]  # (1, 10)\n",
    "        yt = y[t,:]  # (1, 10)\n",
    "        \n",
    "        d3t = ht - yt  # (1, 10)\n",
    "        \n",
    "        z2t = np.insert(z2t, 0, values=np.ones(1))  # (1, 26)\n",
    "        d2t = np.multiply((theta2.T * d3t.T).T, sigmoid_gradient(z2t))  # (1, 26)\n",
    "        \n",
    "        delta1 = delta1 + (d2t[:,1:]).T * a1t\n",
    "        delta2 = delta2 + d3t.T * a2t\n",
    "        \n",
    "    delta1 = delta1 / m\n",
    "    delta2 = delta2 / m\n",
    "    # add the gradient regularization term\n",
    "    delta1[:,1:] = delta1[:,1:] + (theta1[:,1:] * learning_rate) / m\n",
    "    delta2[:,1:] = delta2[:,1:] + (theta2[:,1:] * learning_rate) / m\n",
    "    \n",
    "    # unravel the gradient matrices into a single array\n",
    "    grad = np.concatenate((np.ravel(delta1), np.ravel(delta2)))\n",
    "    \n",
    "    return J, grad"
   ]
  },
  {
   "cell_type": "code",
   "execution_count": 263,
   "metadata": {
    "scrolled": true
   },
   "outputs": [
    {
     "data": {
      "text/plain": [
       "(6.6773286083791508,\n",
       " (10285,),\n",
       " array([ -2.54880770e-02,  -6.28833108e-06,  -1.63219271e-06, ...,\n",
       "          1.87694004e-01,   1.67080518e-01,   1.56089048e-01]))"
      ]
     },
     "execution_count": 263,
     "metadata": {},
     "output_type": "execute_result"
    }
   ],
   "source": [
    "np.set_printoptions(threshold=1500)\n",
    "J, grad = backprop(params, input_size, hidden_size, num_labels, X, y_onehot, learning_rate)\n",
    "J, grad.shape,grad"
   ]
  },
  {
   "cell_type": "markdown",
   "metadata": {},
   "source": [
    "We're finally ready to train our network and use it to make predictions.  This is roughly similar to the previous exercise with multi-class logistic regression."
   ]
  },
  {
   "cell_type": "code",
   "execution_count": 264,
   "metadata": {},
   "outputs": [
    {
     "data": {
      "text/plain": [
       "     fun: 2.3236475049169676\n",
       "     jac: array([ -3.52299462e-02,  -6.17305227e-06,  -1.60360472e-06, ...,\n",
       "         9.41711501e-02,   6.96338283e-02,   7.85837515e-02])\n",
       " message: 'Max. number of function evaluations reached'\n",
       "    nfev: 20\n",
       "     nit: 5\n",
       "  status: 3\n",
       " success: False\n",
       "       x: array([-0.06007124, -0.03086526, -0.00801802, ...,  0.38276111,\n",
       "        0.06634407,  0.25190384])"
      ]
     },
     "execution_count": 264,
     "metadata": {},
     "output_type": "execute_result"
    }
   ],
   "source": [
    "from scipy.optimize import minimize\n",
    "\n",
    "# minimize the objective function\n",
    "fmin = minimize(fun=backprop, x0=params, args=(input_size, hidden_size, num_labels, X, y_onehot, learning_rate), \n",
    "                method='TNC', jac=True, options={'maxiter': 20})\n",
    "fmin"
   ]
  },
  {
   "cell_type": "markdown",
   "metadata": {},
   "source": [
    "We put a bound on the number of iterations since the objective function is not likely to completely converge.  Our total cost has dropped below 0.5 though so that's a good indicator that the algorithm is working.  Let's use the parameters it found and forward-propagate them through the network to get some predictions."
   ]
  },
  {
   "cell_type": "code",
   "execution_count": 265,
   "metadata": {
    "scrolled": true
   },
   "outputs": [
    {
     "data": {
      "text/plain": [
       "array([[10],\n",
       "       [10],\n",
       "       [10],\n",
       "       ..., \n",
       "       [ 9],\n",
       "       [ 9],\n",
       "       [10]], dtype=int64)"
      ]
     },
     "execution_count": 265,
     "metadata": {},
     "output_type": "execute_result"
    }
   ],
   "source": [
    "X = np.matrix(X)\n",
    "theta1 = np.matrix(np.reshape(fmin.x[:hidden_size * (input_size + 1)], (hidden_size, (input_size + 1))))\n",
    "theta2 = np.matrix(np.reshape(fmin.x[hidden_size * (input_size + 1):], (num_labels, (hidden_size + 1))))\n",
    "\n",
    "a1, z2, a2, z3, h = forward_propagate(X, theta1, theta2)\n",
    "y_pred = np.array(np.argmax(h, axis=1) + 1)\n",
    "y_pred"
   ]
  },
  {
   "cell_type": "markdown",
   "metadata": {},
   "source": [
    "Finally we can compute the accuracy to see how well our trained network is doing."
   ]
  },
  {
   "cell_type": "code",
   "execution_count": 267,
   "metadata": {},
   "outputs": [
    {
     "name": "stdout",
     "output_type": "stream",
     "text": [
      "accuracy = 60.24%\n"
     ]
    }
   ],
   "source": [
    "correct = [1 if a == b else 0 for (a, b) in zip(y_pred, y)]\n",
    "accuracy = (sum(map(int, correct)) / float(len(correct)))\n",
    "print ('accuracy = {0}%'.format(accuracy * 100))"
   ]
  },
  {
   "cell_type": "markdown",
   "metadata": {},
   "source": [
    "And we're done!  We've successfully implemented a rudimentary feed-forward neural network with backpropagation and used it to classify images of handwritten digits.  In the next exercise we'll look at another power supervised learning algorithm, support vector machines."
   ]
  }
 ],
 "metadata": {
  "kernelspec": {
   "display_name": "Python 3",
   "language": "python",
   "name": "python3"
  },
  "language_info": {
   "codemirror_mode": {
    "name": "ipython",
    "version": 3
   },
   "file_extension": ".py",
   "mimetype": "text/x-python",
   "name": "python",
   "nbconvert_exporter": "python",
   "pygments_lexer": "ipython3",
   "version": "3.6.1"
  }
 },
 "nbformat": 4,
 "nbformat_minor": 1
}
