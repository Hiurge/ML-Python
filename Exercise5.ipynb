{
 "cells": [
  {
   "cell_type": "code",
   "execution_count": 84,
   "metadata": {},
   "outputs": [
    {
     "data": {
      "text/plain": [
       "{'X': array([[-15.93675813],\n",
       "        [-29.15297922],\n",
       "        [ 36.18954863],\n",
       "        [ 37.49218733],\n",
       "        [-48.05882945],\n",
       "        [ -8.94145794],\n",
       "        [ 15.30779289],\n",
       "        [-34.70626581],\n",
       "        [  1.38915437],\n",
       "        [-44.38375985],\n",
       "        [  7.01350208],\n",
       "        [ 22.76274892]]), 'Xtest': array([[-33.31800399],\n",
       "        [-37.91216403],\n",
       "        [-51.20693795],\n",
       "        [ -6.13259585],\n",
       "        [ 21.26118327],\n",
       "        [-40.31952949],\n",
       "        [-14.54153167],\n",
       "        [ 32.55976024],\n",
       "        [ 13.39343255],\n",
       "        [ 44.20988595],\n",
       "        [ -1.14267768],\n",
       "        [-12.76686065],\n",
       "        [ 34.05450539],\n",
       "        [ 39.22350028],\n",
       "        [  1.97449674],\n",
       "        [ 29.6217551 ],\n",
       "        [-23.66962971],\n",
       "        [ -9.01180139],\n",
       "        [-55.94057091],\n",
       "        [-35.70859752],\n",
       "        [  9.51020533]]), 'Xval': array([[-16.74653578],\n",
       "        [-14.57747075],\n",
       "        [ 34.51575866],\n",
       "        [-47.01007574],\n",
       "        [ 36.97511905],\n",
       "        [-40.68611002],\n",
       "        [ -4.47201098],\n",
       "        [ 26.53363489],\n",
       "        [-42.7976831 ],\n",
       "        [ 25.37409938],\n",
       "        [-31.10955398],\n",
       "        [ 27.31176864],\n",
       "        [ -3.26386201],\n",
       "        [ -1.81827649],\n",
       "        [-40.7196624 ],\n",
       "        [-50.01324365],\n",
       "        [-17.41177155],\n",
       "        [  3.5881937 ],\n",
       "        [  7.08548026],\n",
       "        [ 46.28236902],\n",
       "        [ 14.61228909]]), '__globals__': [], '__header__': b'MATLAB 5.0 MAT-file, Platform: GLNXA64, Created on: Fri Nov  4 22:27:26 2011', '__version__': '1.0', 'y': array([[  2.13431051],\n",
       "        [  1.17325668],\n",
       "        [ 34.35910918],\n",
       "        [ 36.83795516],\n",
       "        [  2.80896507],\n",
       "        [  2.12107248],\n",
       "        [ 14.71026831],\n",
       "        [  2.61418439],\n",
       "        [  3.74017167],\n",
       "        [  3.73169131],\n",
       "        [  7.62765885],\n",
       "        [ 22.7524283 ]]), 'ytest': array([[  3.31688953],\n",
       "        [  5.39768952],\n",
       "        [  0.13042984],\n",
       "        [  6.1925982 ],\n",
       "        [ 17.08848712],\n",
       "        [  0.79950805],\n",
       "        [  2.82479183],\n",
       "        [ 28.62123334],\n",
       "        [ 17.04639081],\n",
       "        [ 55.38437334],\n",
       "        [  4.07936733],\n",
       "        [  8.27039793],\n",
       "        [ 31.32355102],\n",
       "        [ 39.15906103],\n",
       "        [  8.08727989],\n",
       "        [ 24.11134389],\n",
       "        [  2.4773548 ],\n",
       "        [  6.56606472],\n",
       "        [  6.0380888 ],\n",
       "        [  4.69273956],\n",
       "        [ 10.83004606]]), 'yval': array([[  4.17020201e+00],\n",
       "        [  4.06726280e+00],\n",
       "        [  3.18730676e+01],\n",
       "        [  1.06236562e+01],\n",
       "        [  3.18360213e+01],\n",
       "        [  4.95936972e+00],\n",
       "        [  4.45159880e+00],\n",
       "        [  2.22763185e+01],\n",
       "        [ -4.38738274e-05],\n",
       "        [  2.05038016e+01],\n",
       "        [  3.85834476e+00],\n",
       "        [  1.93650529e+01],\n",
       "        [  4.88376281e+00],\n",
       "        [  1.10971588e+01],\n",
       "        [  7.46170827e+00],\n",
       "        [  1.47693464e+00],\n",
       "        [  2.71916388e+00],\n",
       "        [  1.09269007e+01],\n",
       "        [  8.34871235e+00],\n",
       "        [  5.27819280e+01],\n",
       "        [  1.33573396e+01]])}"
      ]
     },
     "execution_count": 84,
     "metadata": {},
     "output_type": "execute_result"
    }
   ],
   "source": [
    "import numpy as np\n",
    "import pandas as pd\n",
    "import matplotlib.pyplot as plt\n",
    "import seaborn as sb\n",
    "from scipy.io import loadmat\n",
    "%matplotlib inline\n",
    "\n",
    "raw_data = loadmat('data/ex5data1.mat')\n",
    "raw_data"
   ]
  },
  {
   "cell_type": "code",
   "execution_count": 2,
   "metadata": {},
   "outputs": [
    {
     "name": "stdout",
     "output_type": "stream",
     "text": [
      "__header__ b'MATLAB 5.0 MAT-file, Platform: GLNXA64, Created on: Fri Nov  4 22:27:26 2011'\n",
      "__version__ 1.0\n",
      "__globals__ []\n",
      "X [[-15.93675813]\n",
      " [-29.15297922]\n",
      " [ 36.18954863]\n",
      " [ 37.49218733]\n",
      " [-48.05882945]\n",
      " [ -8.94145794]\n",
      " [ 15.30779289]\n",
      " [-34.70626581]\n",
      " [  1.38915437]\n",
      " [-44.38375985]\n",
      " [  7.01350208]\n",
      " [ 22.76274892]]\n",
      "y [[  2.13431051]\n",
      " [  1.17325668]\n",
      " [ 34.35910918]\n",
      " [ 36.83795516]\n",
      " [  2.80896507]\n",
      " [  2.12107248]\n",
      " [ 14.71026831]\n",
      " [  2.61418439]\n",
      " [  3.74017167]\n",
      " [  3.73169131]\n",
      " [  7.62765885]\n",
      " [ 22.7524283 ]]\n",
      "Xtest [[-33.31800399]\n",
      " [-37.91216403]\n",
      " [-51.20693795]\n",
      " [ -6.13259585]\n",
      " [ 21.26118327]\n",
      " [-40.31952949]\n",
      " [-14.54153167]\n",
      " [ 32.55976024]\n",
      " [ 13.39343255]\n",
      " [ 44.20988595]\n",
      " [ -1.14267768]\n",
      " [-12.76686065]\n",
      " [ 34.05450539]\n",
      " [ 39.22350028]\n",
      " [  1.97449674]\n",
      " [ 29.6217551 ]\n",
      " [-23.66962971]\n",
      " [ -9.01180139]\n",
      " [-55.94057091]\n",
      " [-35.70859752]\n",
      " [  9.51020533]]\n",
      "ytest [[  3.31688953]\n",
      " [  5.39768952]\n",
      " [  0.13042984]\n",
      " [  6.1925982 ]\n",
      " [ 17.08848712]\n",
      " [  0.79950805]\n",
      " [  2.82479183]\n",
      " [ 28.62123334]\n",
      " [ 17.04639081]\n",
      " [ 55.38437334]\n",
      " [  4.07936733]\n",
      " [  8.27039793]\n",
      " [ 31.32355102]\n",
      " [ 39.15906103]\n",
      " [  8.08727989]\n",
      " [ 24.11134389]\n",
      " [  2.4773548 ]\n",
      " [  6.56606472]\n",
      " [  6.0380888 ]\n",
      " [  4.69273956]\n",
      " [ 10.83004606]]\n",
      "Xval [[-16.74653578]\n",
      " [-14.57747075]\n",
      " [ 34.51575866]\n",
      " [-47.01007574]\n",
      " [ 36.97511905]\n",
      " [-40.68611002]\n",
      " [ -4.47201098]\n",
      " [ 26.53363489]\n",
      " [-42.7976831 ]\n",
      " [ 25.37409938]\n",
      " [-31.10955398]\n",
      " [ 27.31176864]\n",
      " [ -3.26386201]\n",
      " [ -1.81827649]\n",
      " [-40.7196624 ]\n",
      " [-50.01324365]\n",
      " [-17.41177155]\n",
      " [  3.5881937 ]\n",
      " [  7.08548026]\n",
      " [ 46.28236902]\n",
      " [ 14.61228909]]\n",
      "yval [[  4.17020201e+00]\n",
      " [  4.06726280e+00]\n",
      " [  3.18730676e+01]\n",
      " [  1.06236562e+01]\n",
      " [  3.18360213e+01]\n",
      " [  4.95936972e+00]\n",
      " [  4.45159880e+00]\n",
      " [  2.22763185e+01]\n",
      " [ -4.38738274e-05]\n",
      " [  2.05038016e+01]\n",
      " [  3.85834476e+00]\n",
      " [  1.93650529e+01]\n",
      " [  4.88376281e+00]\n",
      " [  1.10971588e+01]\n",
      " [  7.46170827e+00]\n",
      " [  1.47693464e+00]\n",
      " [  2.71916388e+00]\n",
      " [  1.09269007e+01]\n",
      " [  8.34871235e+00]\n",
      " [  5.27819280e+01]\n",
      " [  1.33573396e+01]]\n"
     ]
    }
   ],
   "source": [
    "for key, value in raw_data.items() :\n",
    "    print (key, value)"
   ]
  },
  {
   "cell_type": "code",
   "execution_count": 129,
   "metadata": {},
   "outputs": [
    {
     "data": {
      "text/plain": [
       "((12, 1), (12, 1), (21, 1), (21, 1))"
      ]
     },
     "execution_count": 129,
     "metadata": {},
     "output_type": "execute_result"
    }
   ],
   "source": [
    "X=raw_data['X']\n",
    "y=raw_data['y']\n",
    "Xtest=raw_data['Xtest']\n",
    "ytest=raw_data['ytest']\n",
    "Xval=raw_data['Xval']\n",
    "yval=raw_data['yval']\n",
    "X.shape,y.shape,Xval.shape,yval.shape"
   ]
  },
  {
   "cell_type": "code",
   "execution_count": 58,
   "metadata": {
    "collapsed": true
   },
   "outputs": [],
   "source": [
    "def lin_cost(params,X,y,learning_rate):\n",
    "    theta=np.matrix(np.reshape(params,(X.shape[1]+1,1)))\n",
    "    m=X.shape[0]\n",
    "    X1=np.insert(X, 0, values=np.ones(m), axis=1)\n",
    "    h=np.dot(X1,theta)\n",
    "    JNR=np.multiply((1/(2*m)),np.sum((np.power((h-y),2))))\n",
    "    reg=(learning_rate/(2*m))*np.sum((np.power(theta[:,1:],2)))\n",
    "    J=JNR+reg\n",
    "    J=np.sum(J)\n",
    "    return J"
   ]
  },
  {
   "cell_type": "code",
   "execution_count": 13,
   "metadata": {},
   "outputs": [
    {
     "name": "stdout",
     "output_type": "stream",
     "text": [
      "[[  1.00000000e+00  -1.59367581e+01   2.53980260e+02  -4.04762197e+03\n",
      "    6.45059724e+04]\n",
      " [  1.00000000e+00  -2.91529792e+01   8.49896197e+02  -2.47770062e+04\n",
      "    7.22323546e+05]\n",
      " [  1.00000000e+00   3.61895486e+01   1.30968343e+03   4.73968522e+04\n",
      "    1.71527069e+06]\n",
      " [  1.00000000e+00   3.74921873e+01   1.40566411e+03   5.27014222e+04\n",
      "    1.97589159e+06]\n",
      " [  1.00000000e+00  -4.80588295e+01   2.30965109e+03  -1.10999128e+05\n",
      "    5.33448815e+06]\n",
      " [  1.00000000e+00  -8.94145794e+00   7.99496701e+01  -7.14866612e+02\n",
      "    6.39194974e+03]\n",
      " [  1.00000000e+00   1.53077929e+01   2.34328523e+02   3.58705250e+03\n",
      "    5.49098568e+04]\n",
      " [  1.00000000e+00  -3.47062658e+01   1.20452489e+03  -4.18045609e+04\n",
      "    1.45088020e+06]\n",
      " [  1.00000000e+00   1.38915437e+00   1.92974986e+00   2.68072045e+00\n",
      "    3.72393452e+00]\n",
      " [  1.00000000e+00  -4.43837599e+01   1.96991814e+03  -8.74323736e+04\n",
      "    3.88057747e+06]\n",
      " [  1.00000000e+00   7.01350208e+00   4.91892115e+01   3.44988637e+02\n",
      "    2.41957852e+03]\n",
      " [  1.00000000e+00   2.27627489e+01   5.18142738e+02   1.17943531e+04\n",
      "    2.68471897e+05]]\n"
     ]
    },
    {
     "data": {
      "text/plain": [
       "140.95412088055392"
      ]
     },
     "execution_count": 13,
     "metadata": {},
     "output_type": "execute_result"
    }
   ],
   "source": [
    "theta=np.ones(shape=[2,1])\n",
    "params=np.zeros((X.shape[1]+1,1))\n",
    "learning_rate=0\n",
    "X.shape, theta.shape, y.shape\n",
    "paramsP=np.zeros((poly(X,4).shape[1]+1,1))\n",
    "params.shape, theta.shape\n",
    "lin_cost(paramsP,poly(X,4),y,learning_rate)"
   ]
  },
  {
   "cell_type": "code",
   "execution_count": 127,
   "metadata": {
    "collapsed": true
   },
   "outputs": [],
   "source": [
    "def lin_gradient(params,X,y,learning_rate):\n",
    "    J=lin_cost(params,X,y,learning_rate)\n",
    "    theta=np.matrix(np.reshape(params,(X.shape[1]+1,1)))\n",
    "    m=X.shape[0]\n",
    "    X=np.insert(X, 0, values=np.ones(m), axis=1)\n",
    "    h=np.dot(X,theta)\n",
    "    gradNR=np.multiply((1/m),(np.dot(X.T,(h-y))))\n",
    "    reg=np.multiply(((learning_rate)/m),theta)\n",
    "    grad=gradNR+reg\n",
    "    grad[0]=gradNR[0]\n",
    "    grad=np.sum(grad,axis=1)\n",
    "    grad=np.squeeze(np.asarray(grad))\n",
    "    #grad=grad.flatten()\n",
    "    return J, grad"
   ]
  },
  {
   "cell_type": "code",
   "execution_count": 128,
   "metadata": {},
   "outputs": [
    {
     "ename": "NameError",
     "evalue": "name 'polX' is not defined",
     "output_type": "error",
     "traceback": [
      "\u001b[1;31m---------------------------------------------------------------------------\u001b[0m",
      "\u001b[1;31mNameError\u001b[0m                                 Traceback (most recent call last)",
      "\u001b[1;32m<ipython-input-128-c2c9698421ac>\u001b[0m in \u001b[0;36m<module>\u001b[1;34m()\u001b[0m\n\u001b[1;32m----> 1\u001b[1;33m \u001b[0mlin_gradient\u001b[0m\u001b[1;33m(\u001b[0m\u001b[0mparams\u001b[0m\u001b[1;33m,\u001b[0m\u001b[0mpolX\u001b[0m\u001b[1;33m,\u001b[0m\u001b[0my\u001b[0m\u001b[1;33m,\u001b[0m\u001b[1;36m1\u001b[0m\u001b[1;33m)\u001b[0m\u001b[1;33m\u001b[0m\u001b[0m\n\u001b[0m",
      "\u001b[1;31mNameError\u001b[0m: name 'polX' is not defined"
     ]
    }
   ],
   "source": []
  },
  {
   "cell_type": "code",
   "execution_count": 16,
   "metadata": {
    "collapsed": true
   },
   "outputs": [],
   "source": [
    "def trainLinReg(theta,X,y):\n",
    "    m=X.shape[0]\n",
    "    X=np.insert(X, 0, values=np.ones(m), axis=1)\n",
    "    h=np.dot(X,theta)\n",
    "    JTR=(1/(2*m))*(np.power((h-y),2))\n",
    "    return JTR"
   ]
  },
  {
   "cell_type": "code",
   "execution_count": 18,
   "metadata": {},
   "outputs": [
    {
     "data": {
      "text/plain": [
       "array([[  1.21425577e+01],\n",
       "       [  3.58345047e+01],\n",
       "       [  3.33807811e-01],\n",
       "       [  1.14020169e-01],\n",
       "       [  1.03616539e+02],\n",
       "       [  4.21893826e+00],\n",
       "       [  1.06336866e-01],\n",
       "       [  5.49656293e+01],\n",
       "       [  7.60519890e-02],\n",
       "       [  9.24944058e+01],\n",
       "       [  6.20312493e-03],\n",
       "       [  4.25311563e-02]])"
      ]
     },
     "execution_count": 18,
     "metadata": {},
     "output_type": "execute_result"
    }
   ],
   "source": [
    "trainLinReg(theta,X,y)"
   ]
  },
  {
   "cell_type": "code",
   "execution_count": 22,
   "metadata": {},
   "outputs": [
    {
     "name": "stdout",
     "output_type": "stream",
     "text": [
      "[[  1.         -15.93675813]\n",
      " [  1.         -29.15297922]\n",
      " [  1.          36.18954863]\n",
      " [  1.          37.49218733]\n",
      " [  1.         -48.05882945]\n",
      " [  1.          -8.94145794]\n",
      " [  1.          15.30779289]\n",
      " [  1.         -34.70626581]\n",
      " [  1.           1.38915437]\n",
      " [  1.         -44.38375985]\n",
      " [  1.           7.01350208]\n",
      " [  1.          22.76274892]]\n",
      "[[  1.         -15.93675813]\n",
      " [  1.         -29.15297922]\n",
      " [  1.          36.18954863]\n",
      " [  1.          37.49218733]\n",
      " [  1.         -48.05882945]\n",
      " [  1.          -8.94145794]\n",
      " [  1.          15.30779289]\n",
      " [  1.         -34.70626581]\n",
      " [  1.           1.38915437]\n",
      " [  1.         -44.38375985]\n",
      " [  1.           7.01350208]\n",
      " [  1.          22.76274892]]\n",
      "[[  1.         -15.93675813]\n",
      " [  1.         -29.15297922]\n",
      " [  1.          36.18954863]\n",
      " [  1.          37.49218733]\n",
      " [  1.         -48.05882945]\n",
      " [  1.          -8.94145794]\n",
      " [  1.          15.30779289]\n",
      " [  1.         -34.70626581]\n",
      " [  1.           1.38915437]\n",
      " [  1.         -44.38375985]\n",
      " [  1.           7.01350208]\n",
      " [  1.          22.76274892]]\n",
      "[[  1.         -15.93675813]\n",
      " [  1.         -29.15297922]\n",
      " [  1.          36.18954863]\n",
      " [  1.          37.49218733]\n",
      " [  1.         -48.05882945]\n",
      " [  1.          -8.94145794]\n",
      " [  1.          15.30779289]\n",
      " [  1.         -34.70626581]\n",
      " [  1.           1.38915437]\n",
      " [  1.         -44.38375985]\n",
      " [  1.           7.01350208]\n",
      " [  1.          22.76274892]]\n",
      "[[  1.         -15.93675813]\n",
      " [  1.         -29.15297922]\n",
      " [  1.          36.18954863]\n",
      " [  1.          37.49218733]\n",
      " [  1.         -48.05882945]\n",
      " [  1.          -8.94145794]\n",
      " [  1.          15.30779289]\n",
      " [  1.         -34.70626581]\n",
      " [  1.           1.38915437]\n",
      " [  1.         -44.38375985]\n",
      " [  1.           7.01350208]\n",
      " [  1.          22.76274892]]\n",
      "[[  1.         -15.93675813]\n",
      " [  1.         -29.15297922]\n",
      " [  1.          36.18954863]\n",
      " [  1.          37.49218733]\n",
      " [  1.         -48.05882945]\n",
      " [  1.          -8.94145794]\n",
      " [  1.          15.30779289]\n",
      " [  1.         -34.70626581]\n",
      " [  1.           1.38915437]\n",
      " [  1.         -44.38375985]\n",
      " [  1.           7.01350208]\n",
      " [  1.          22.76274892]]\n",
      "[[  1.         -15.93675813]\n",
      " [  1.         -29.15297922]\n",
      " [  1.          36.18954863]\n",
      " [  1.          37.49218733]\n",
      " [  1.         -48.05882945]\n",
      " [  1.          -8.94145794]\n",
      " [  1.          15.30779289]\n",
      " [  1.         -34.70626581]\n",
      " [  1.           1.38915437]\n",
      " [  1.         -44.38375985]\n",
      " [  1.           7.01350208]\n",
      " [  1.          22.76274892]]\n",
      "[[  1.         -15.93675813]\n",
      " [  1.         -29.15297922]\n",
      " [  1.          36.18954863]\n",
      " [  1.          37.49218733]\n",
      " [  1.         -48.05882945]\n",
      " [  1.          -8.94145794]\n",
      " [  1.          15.30779289]\n",
      " [  1.         -34.70626581]\n",
      " [  1.           1.38915437]\n",
      " [  1.         -44.38375985]\n",
      " [  1.           7.01350208]\n",
      " [  1.          22.76274892]]\n",
      "[[  1.         -15.93675813]\n",
      " [  1.         -29.15297922]\n",
      " [  1.          36.18954863]\n",
      " [  1.          37.49218733]\n",
      " [  1.         -48.05882945]\n",
      " [  1.          -8.94145794]\n",
      " [  1.          15.30779289]\n",
      " [  1.         -34.70626581]\n",
      " [  1.           1.38915437]\n",
      " [  1.         -44.38375985]\n",
      " [  1.           7.01350208]\n",
      " [  1.          22.76274892]]\n",
      "[[  1.         -15.93675813]\n",
      " [  1.         -29.15297922]\n",
      " [  1.          36.18954863]\n",
      " [  1.          37.49218733]\n",
      " [  1.         -48.05882945]\n",
      " [  1.          -8.94145794]\n",
      " [  1.          15.30779289]\n",
      " [  1.         -34.70626581]\n",
      " [  1.           1.38915437]\n",
      " [  1.         -44.38375985]\n",
      " [  1.           7.01350208]\n",
      " [  1.          22.76274892]]\n"
     ]
    },
    {
     "data": {
      "text/plain": [
       "array([ 13.08790351,   0.36777923])"
      ]
     },
     "execution_count": 22,
     "metadata": {},
     "output_type": "execute_result"
    }
   ],
   "source": [
    "import scipy.optimize as sc_opt\n",
    "def fmin_linear(func,params,X,y,learning_rate):\n",
    "    fmin = sc_opt.minimize(func, params, args=(X,y,learning_rate), \n",
    "                method='TNC', jac=True, options={'maxiter': 500})\n",
    "    return fmin.x\n",
    "fmin_linear(lin_gradient,params,X,y,learning_rate)"
   ]
  },
  {
   "cell_type": "code",
   "execution_count": 126,
   "metadata": {},
   "outputs": [
    {
     "ename": "NameError",
     "evalue": "name 'fmin' is not defined",
     "output_type": "error",
     "traceback": [
      "\u001b[1;31m---------------------------------------------------------------------------\u001b[0m",
      "\u001b[1;31mNameError\u001b[0m                                 Traceback (most recent call last)",
      "\u001b[1;32m<ipython-input-126-6f6b099b93b5>\u001b[0m in \u001b[0;36m<module>\u001b[1;34m()\u001b[0m\n\u001b[0;32m      4\u001b[0m \u001b[0mfig\u001b[0m\u001b[1;33m,\u001b[0m \u001b[0max\u001b[0m \u001b[1;33m=\u001b[0m \u001b[0mplt\u001b[0m\u001b[1;33m.\u001b[0m\u001b[0msubplots\u001b[0m\u001b[1;33m(\u001b[0m\u001b[0mfigsize\u001b[0m\u001b[1;33m=\u001b[0m\u001b[1;33m(\u001b[0m\u001b[1;36m12\u001b[0m\u001b[1;33m,\u001b[0m\u001b[1;36m8\u001b[0m\u001b[1;33m)\u001b[0m\u001b[1;33m)\u001b[0m\u001b[1;33m\u001b[0m\u001b[0m\n\u001b[0;32m      5\u001b[0m \u001b[0mX1\u001b[0m\u001b[1;33m.\u001b[0m\u001b[0mshape\u001b[0m\u001b[1;33m,\u001b[0m \u001b[0mnp\u001b[0m\u001b[1;33m.\u001b[0m\u001b[0mdot\u001b[0m\u001b[1;33m(\u001b[0m\u001b[0mX1\u001b[0m\u001b[1;33m,\u001b[0m\u001b[0mtheta1\u001b[0m\u001b[1;33m)\u001b[0m\u001b[1;33m.\u001b[0m\u001b[0mshape\u001b[0m\u001b[1;33m,\u001b[0m\u001b[0mtheta1\u001b[0m\u001b[1;33m.\u001b[0m\u001b[0mshape\u001b[0m\u001b[1;33m\u001b[0m\u001b[0m\n\u001b[1;32m----> 6\u001b[1;33m \u001b[0max\u001b[0m\u001b[1;33m.\u001b[0m\u001b[0mplot\u001b[0m\u001b[1;33m(\u001b[0m\u001b[0mX\u001b[0m\u001b[1;33m,\u001b[0m\u001b[0mnp\u001b[0m\u001b[1;33m.\u001b[0m\u001b[0mdot\u001b[0m\u001b[1;33m(\u001b[0m\u001b[0mX1\u001b[0m\u001b[1;33m,\u001b[0m\u001b[0mfmin\u001b[0m\u001b[1;33m.\u001b[0m\u001b[0mx\u001b[0m\u001b[1;33m)\u001b[0m\u001b[1;33m)\u001b[0m\u001b[1;33m\u001b[0m\u001b[0m\n\u001b[0m\u001b[0;32m      7\u001b[0m \u001b[0max\u001b[0m\u001b[1;33m.\u001b[0m\u001b[0mscatter\u001b[0m\u001b[1;33m(\u001b[0m\u001b[0mX\u001b[0m\u001b[1;33m,\u001b[0m\u001b[0my\u001b[0m\u001b[1;33m)\u001b[0m\u001b[1;33m\u001b[0m\u001b[0m\n",
      "\u001b[1;31mNameError\u001b[0m: name 'fmin' is not defined"
     ]
    },
    {
     "data": {
      "image/png": "[encoded data removed]",
      "text/plain": [
       "<matplotlib.figure.Figure at 0x101e8da0>"
      ]
     },
     "metadata": {},
     "output_type": "display_data"
    }
   ],
   "source": [
    "m=X.shape[0]\n",
    "X1=np.insert(X, 0, values=np.ones(m), axis=1)\n",
    "theta1=np.matrix(np.reshape(params,(X.shape[1]+1,1)))\n",
    "fig, ax = plt.subplots(figsize=(12,8))\n",
    "X1.shape, np.dot(X1,theta1).shape,theta1.shape\n",
    "ax.plot(X,np.dot(X1,fmin.x))\n",
    "ax.scatter(X,y)"
   ]
  },
  {
   "cell_type": "code",
   "execution_count": 124,
   "metadata": {
    "collapsed": true
   },
   "outputs": [],
   "source": [
    "def learningCurve(func,params,X,y,learning_rate,Xval2,yval2):\n",
    "    m=X.shape[0]\n",
    "    error_train=np.zeros(shape=m+1)\n",
    "    error_val=np.zeros(shape=m+1)\n",
    "    for i in range(m):\n",
    "        i=i+1\n",
    "        theta=fmin_linear(func,params,X[:i,:],y[:i],learning_rate)\n",
    "        params=np.ravel(theta)\n",
    "        error_train[i]=lin_cost(params,X[:i,:],y[:i],learning_rate)\n",
    "        error_val[i]=lin_cost(params,Xval2,yval2,learning_rate)\n",
    "    error_train=error_train[1:]\n",
    "    error_val=error_val[1:]\n",
    "    return theta,error_train,error_val\n"
   ]
  },
  {
   "cell_type": "code",
   "execution_count": 125,
   "metadata": {},
   "outputs": [
    {
     "data": {
      "text/plain": [
       "(array([ 13.08790351,   0.36777923]),\n",
       " array([  1.01769539e-18,   2.19625663e-09,   3.28659505e+00,\n",
       "          2.84267769e+00,   1.31540488e+01,   1.94439625e+01,\n",
       "          2.00985217e+01,   1.81728587e+01,   2.26094054e+01,\n",
       "          2.32614616e+01,   2.43172496e+01,   2.23739065e+01]),\n",
       " array([ 205.12109571,  110.30288929,   45.0102313 ,   48.36891134,\n",
       "          35.86516477,   33.82996148,   31.97098581,   30.86244631,\n",
       "          31.13599796,   28.93620748,   29.55143164,   29.43381813]))"
      ]
     },
     "execution_count": 125,
     "metadata": {},
     "output_type": "execute_result"
    }
   ],
   "source": [
    "theta1,error_train1,error_val1=learningCurve(lin_gradient,params,X,y,learning_rate,Xval,yval)\n",
    "theta1,error_train1,error_val1"
   ]
  },
  {
   "cell_type": "code",
   "execution_count": 130,
   "metadata": {},
   "outputs": [
    {
     "name": "stdout",
     "output_type": "stream",
     "text": [
      "# Training Examples / Train Error / Cross Validation Error\n",
      "  1                   0.00000000    205.12109571\n",
      "  2                   0.00000000    110.30288929\n",
      "  3                   3.28659505    45.01023130\n",
      "  4                   2.84267769    48.36891134\n",
      "  5                   13.15404881   35.86516477\n",
      "  6                   19.44396251   33.82996148\n",
      "  7                   20.09852166   31.97098581\n",
      "  8                   18.17285870   30.86244631\n",
      "  9                   22.60940542   31.13599796\n",
      "  10                  23.26146159   28.93620748\n",
      "  11                  24.31724959   29.55143164\n",
      "  12                  22.37390650   29.43381813\n"
     ]
    },
    {
     "data": {
      "image/png": "[encoded data removed]",
      "text/plain": [
       "<matplotlib.figure.Figure at 0x1057f908>"
      ]
     },
     "metadata": {},
     "output_type": "display_data"
    }
   ],
   "source": [
    "m=X.shape[0]\n",
    "fig, ax = plt.subplots(figsize=(12,8))\n",
    "X1.shape, np.dot(X1,theta1).shape,theta1.shape\n",
    "ax.plot(range(m),error_train1)\n",
    "ax.plot(range(m),error_val1)\n",
    "print ('# Training Examples / Train Error / Cross Validation Error')\n",
    "for i in range(m):\n",
    "    print ('  {0:<19} {1:<13.8f} {2:<.8f}'.format(i + 1, error_train1[i], error_val1[i]))"
   ]
  },
  {
   "cell_type": "code",
   "execution_count": 134,
   "metadata": {
    "collapsed": true
   },
   "outputs": [],
   "source": [
    "def poly(X,p):\n",
    "    X_poly=np.zeros(shape=[X.shape[0],p])\n",
    "    X_poly=np.swapaxes(X_poly,0,1)\n",
    "    X=np.reshape(X,[X.shape[0],])\n",
    "    for i in range(p):\n",
    "        X_poly[i,:]=np.power(X,i+1)\n",
    "    X_poly=np.swapaxes(X_poly,0,1)\n",
    "    return X_poly"
   ]
  },
  {
   "cell_type": "code",
   "execution_count": 169,
   "metadata": {},
   "outputs": [
    {
     "data": {
      "text/plain": [
       "array([ -1.59367581e+01,   2.53980260e+02,  -4.04762197e+03,\n",
       "         6.45059724e+04,  -1.02801608e+06,   1.63832436e+07,\n",
       "        -2.61095791e+08,   4.16102047e+09,  -6.63131769e+10,\n",
       "         1.05681706e+12])"
      ]
     },
     "execution_count": 169,
     "metadata": {},
     "output_type": "execute_result"
    }
   ],
   "source": [
    "a=poly(X,10)\n",
    "a[:,1], np.power(X,2),a.shape,X.shape\n",
    "a[0,:]"
   ]
  },
  {
   "cell_type": "code",
   "execution_count": 143,
   "metadata": {
    "collapsed": true
   },
   "outputs": [],
   "source": [
    "def normalize(X):\n",
    "    mu=np.mean(X,axis=0)\n",
    "    sigma=np.std(X,axis=0,ddof=1)\n",
    "    X_norm=(X-mu)/sigma\n",
    "    return X_norm, mu, sigma"
   ]
  },
  {
   "cell_type": "code",
   "execution_count": 168,
   "metadata": {},
   "outputs": [
    {
     "ename": "ValueError",
     "evalue": "shapes (12,8) and (9,) not aligned: 8 (dim 1) != 9 (dim 0)",
     "output_type": "error",
     "traceback": [
      "\u001b[1;31m---------------------------------------------------------------------------\u001b[0m",
      "\u001b[1;31mValueError\u001b[0m                                Traceback (most recent call last)",
      "\u001b[1;32m<ipython-input-168-477cf15a1c86>\u001b[0m in \u001b[0;36m<module>\u001b[1;34m()\u001b[0m\n\u001b[0;32m     26\u001b[0m     \u001b[0mX_poly\u001b[0m \u001b[1;33m=\u001b[0m \u001b[0mnp\u001b[0m\u001b[1;33m.\u001b[0m\u001b[0mhstack\u001b[0m\u001b[1;33m(\u001b[0m\u001b[1;33m(\u001b[0m\u001b[0mnp\u001b[0m\u001b[1;33m.\u001b[0m\u001b[0mones\u001b[0m\u001b[1;33m(\u001b[0m\u001b[1;33m(\u001b[0m\u001b[0mX_poly\u001b[0m\u001b[1;33m.\u001b[0m\u001b[0mshape\u001b[0m\u001b[1;33m[\u001b[0m\u001b[1;36m0\u001b[0m\u001b[1;33m]\u001b[0m\u001b[1;33m,\u001b[0m \u001b[1;36m1\u001b[0m\u001b[1;33m)\u001b[0m\u001b[1;33m)\u001b[0m\u001b[1;33m,\u001b[0m \u001b[0mX_poly\u001b[0m\u001b[1;33m)\u001b[0m\u001b[1;33m)\u001b[0m\u001b[1;33m\u001b[0m\u001b[0m\n\u001b[0;32m     27\u001b[0m     \u001b[0mprint\u001b[0m\u001b[1;33m(\u001b[0m\u001b[0mX_poly\u001b[0m\u001b[1;33m.\u001b[0m\u001b[0mshape\u001b[0m\u001b[1;33m)\u001b[0m\u001b[1;33m\u001b[0m\u001b[0m\n\u001b[1;32m---> 28\u001b[1;33m \u001b[0mplt\u001b[0m\u001b[1;33m.\u001b[0m\u001b[0mplot\u001b[0m\u001b[1;33m(\u001b[0m\u001b[0mX\u001b[0m\u001b[1;33m,\u001b[0m \u001b[0mX_poly\u001b[0m\u001b[1;33m.\u001b[0m\u001b[0mdot\u001b[0m\u001b[1;33m(\u001b[0m\u001b[0mtheta1\u001b[0m\u001b[1;33m)\u001b[0m\u001b[1;33m,\u001b[0m \u001b[0mlinestyle\u001b[0m\u001b[1;33m=\u001b[0m\u001b[1;34m'--'\u001b[0m\u001b[1;33m,\u001b[0m \u001b[0mmarker\u001b[0m\u001b[1;33m=\u001b[0m\u001b[1;34m''\u001b[0m\u001b[1;33m,\u001b[0m \u001b[0mcolor\u001b[0m\u001b[1;33m=\u001b[0m\u001b[1;34m'b'\u001b[0m\u001b[1;33m)\u001b[0m\u001b[1;33m\u001b[0m\u001b[0m\n\u001b[0m",
      "\u001b[1;31mValueError\u001b[0m: shapes (12,8) and (9,) not aligned: 8 (dim 1) != 9 (dim 0)"
     ]
    }
   ],
   "source": [
    "a,b,c=normalize(poly(X,8))\n",
    "a[0,:],b,c\n",
    "\n",
    "def plot_fit(min_x, max_x, mu, sigma, theta, p):\n",
    "    \"\"\"\n",
    "    Plots a learned polynomial regression fit over an existing figure.\n",
    "    Parameters\n",
    "    ----------\n",
    "    min_x : float\n",
    "        Minimum value of features.\n",
    "    max_x : float\n",
    "        Maximum value of features.\n",
    "    mu : ndarray, shape (n_features - 1,)\n",
    "        Mean value of features, without the intercept term.\n",
    "    sigma : ndarray, shape (n_features - 1,)\n",
    "        Standard deviation of features, without the intercept term.\n",
    "    theta : ndarray, shape (n_features,)\n",
    "        Linear regression parameter.\n",
    "    p : int\n",
    "        Power of polynomial fit.\n",
    "    \"\"\"\n",
    "    x = np.arange(min_x - 15, max_x + 25, 0.05)\n",
    "    X_poly = poly_features(x, p)\n",
    "    X_poly, dummy_mu, dummy_sigma = feature_normalize(X_poly, mu, sigma)\n",
    "    print(X_poly.shape)\n",
    "    X_poly = np.hstack((np.ones((X_poly.shape[0], 1)), X_poly))\n",
    "    print(X_poly.shape)\n",
    "    plt.plot(X, X_poly.dot(theta1), linestyle='--', marker='', color='b')"
   ]
  },
  {
   "cell_type": "code",
   "execution_count": 101,
   "metadata": {
    "collapsed": true
   },
   "outputs": [],
   "source": [
    "def poly_reg(params,X,y,Xtest,ytest,Xval,yval,p):\n",
    "    X_normPX, muPX, sigmaPX=normalize(poly(X,p))\n",
    "    print('1')\n",
    "    #X_normPX=np.insert(X_normPX, 0, values=np.ones(X_normPX.shape[0]), axis=1)\n",
    "    X_normPT, muPT, sigmaPT=normalize(poly(Xtest,p))\n",
    "    #X_normPT=np.insert(X_normPT, 0, values=np.ones(X_normPT.shape[0]), axis=1)\n",
    "    X_normVT, muVT, sigmaVT=normalize(poly(Xval,p))\n",
    "    #X_normVT=np.insert(X_normVT, 0, values=np.ones(X_normVT.shape[0]), axis=1)\n",
    "    return X_normPX, muPX, sigmaPX, X_normPT, muPT, sigmaPT, X_normVT, muVT, sigmaVT"
   ]
  },
  {
   "cell_type": "code",
   "execution_count": 170,
   "metadata": {},
   "outputs": [
    {
     "name": "stdout",
     "output_type": "stream",
     "text": [
      "1\n"
     ]
    },
    {
     "data": {
      "text/plain": [
       "array([[ -3.62140776e-01,  -7.55086688e-01,   1.82225876e-01,\n",
       "         -7.06189908e-01,   3.06617917e-01,  -5.90877673e-01,\n",
       "          3.44515797e-01,  -5.08481165e-01],\n",
       "       [ -8.03204845e-01,   1.25825266e-03,  -2.47936991e-01,\n",
       "         -3.27023420e-01,   9.33963187e-02,  -4.35817606e-01,\n",
       "          2.55416116e-01,  -4.48912493e-01],\n",
       "       [  1.37746700e+00,   5.84826715e-01,   1.24976856e+00,\n",
       "          2.45311974e-01,   9.78359696e-01,  -1.21556976e-02,\n",
       "          7.56568484e-01,  -1.70352114e-01],\n",
       "       [  1.42093988e+00,   7.06646754e-01,   1.35984559e+00,\n",
       "          3.95534038e-01,   1.10616178e+00,   1.25637135e-01,\n",
       "          8.71929081e-01,  -5.96376930e-02],\n",
       "       [ -1.43414853e+00,   1.85399982e+00,  -2.03716308e+00,\n",
       "          2.33143133e+00,  -2.41153626e+00,   2.60221195e+00,\n",
       "         -2.64567451e+00,   2.76608525e+00],\n",
       "       [ -1.28687086e-01,  -9.75968776e-01,   2.51385075e-01,\n",
       "         -7.39686869e-01,   3.16952928e-01,  -5.94996630e-01,\n",
       "          3.45811812e-01,  -5.08955348e-01],\n",
       "       [  6.80581552e-01,  -7.80028951e-01,   3.40655738e-01,\n",
       "         -7.11721115e-01,   3.26509131e-01,  -5.91790179e-01,\n",
       "          3.46829996e-01,  -5.08613048e-01],\n",
       "       [ -9.88534310e-01,   4.51358004e-01,  -6.01281871e-01,\n",
       "          9.29171228e-02,  -2.18472948e-01,  -1.41608474e-01,\n",
       "          3.94034925e-02,  -2.66692688e-01],\n",
       "       [  2.16075753e-01,  -1.07499276e+00,   2.66275156e-01,\n",
       "         -7.43369047e-01,   3.17561391e-01,  -5.95129245e-01,\n",
       "          3.45834898e-01,  -5.08960051e-01],\n",
       "       [ -1.31150068e+00,   1.42280595e+00,  -1.54812094e+00,\n",
       "          1.49339625e+00,  -1.51590767e+00,   1.38865478e+00,\n",
       "         -1.36830664e+00,   1.22414353e+00],\n",
       "       [  4.03776736e-01,  -1.01501039e+00,   2.73378511e-01,\n",
       "         -7.41976547e-01,   3.17741982e-01,  -5.95098361e-01,\n",
       "          3.45839115e-01,  -5.08959377e-01],\n",
       "       [  9.29375305e-01,  -4.19807932e-01,   5.10968368e-01,\n",
       "         -5.88623813e-01,   3.82615735e-01,  -5.59030004e-01,\n",
       "          3.61832357e-01,  -5.00664801e-01]])"
      ]
     },
     "execution_count": 170,
     "metadata": {},
     "output_type": "execute_result"
    }
   ],
   "source": [
    "X_normPX, muPX, sigmaPX, X_normPT, muPT, sigmaPT, X_normVT, muVT, sigmaVT=poly_reg(params,X,y,Xtest,ytest,Xval,yval,8)\n",
    "X_normPX"
   ]
  },
  {
   "cell_type": "markdown",
   "metadata": {},
   "source": []
  },
  {
   "cell_type": "code",
   "execution_count": 184,
   "metadata": {},
   "outputs": [
    {
     "name": "stdout",
     "output_type": "stream",
     "text": [
      "1\n",
      "here\n",
      "[[-15.93675813]\n",
      " [-29.15297922]\n",
      " [ 36.18954863]\n",
      " [ 37.49218733]\n",
      " [-48.05882945]\n",
      " [ -8.94145794]\n",
      " [ 15.30779289]\n",
      " [-34.70626581]\n",
      " [  1.38915437]\n",
      " [-44.38375985]\n",
      " [  7.01350208]\n",
      " [ 22.76274892]] [  1.88620887   1.56565412  34.34884556  36.8475567    2.75890226\n",
      "   2.17449578  14.89169734   2.27190937   4.09278979   3.85911393\n",
      "   7.20172857  22.71219379]\n"
     ]
    },
    {
     "data": {
      "text/plain": [
       "<matplotlib.collections.PathCollection at 0x11659cf8>"
      ]
     },
     "execution_count": 184,
     "metadata": {},
     "output_type": "execute_result"
    },
    {
     "data": {
      "image/png": "[encoded data removed]",
      "text/plain": [
       "<matplotlib.figure.Figure at 0xd1c22e8>"
      ]
     },
     "metadata": {},
     "output_type": "display_data"
    }
   ],
   "source": [
    "X_normPX, muPX, sigmaPX, X_normPT, muPT, sigmaPT, X_normVT, muVT, sigmaVT=poly_reg(params,X,y,Xtest,ytest,Xval,yval,8)\n",
    "X_norm,muX,sigmaX=normalize(X)\n",
    "X.shape\n",
    "X2=X.ravel()\n",
    "X_poly=poly(X,8)\n",
    "paramsP=np.zeros((X_poly.shape[1]+1,1))\n",
    "theta1,error_train1,error_val1=learningCurve(lin_gradient,paramsP,X_normPX,y,learning_rate,X_normVT,yval)\n",
    "print('here')\n",
    "#theta1=trainLinearReg(X_poly,y,learning_rate)\n",
    "fig, ax = plt.subplots(figsize=(12,8))\n",
    "bla=np.dot((np.insert(X_normPX,0,values=np.ones(X_poly.shape[0]),axis=1)),theta1)\n",
    "ax.scatter(X,y)\n",
    "#print(type(X),type(bla),np.sort(X),np.sort(bla),np.sort(X)==X)\n",
    "print(X,bla)\n",
    "ax.scatter(X,bla,color='r')"
   ]
  },
  {
   "cell_type": "code",
   "execution_count": 189,
   "metadata": {},
   "outputs": [
    {
     "data": {
      "text/plain": [
       "[<matplotlib.lines.Line2D at 0x13ce0198>]"
      ]
     },
     "execution_count": 189,
     "metadata": {},
     "output_type": "execute_result"
    },
    {
     "data": {
      "image/png": "[encoded data removed]",
      "text/plain": [
       "<matplotlib.figure.Figure at 0x105925c0>"
      ]
     },
     "metadata": {},
     "output_type": "display_data"
    }
   ],
   "source": [
    "theta1,error_train1,error_val1=learningCurve(lin_gradient,paramsP,X_normPX,y,learning_rate,X_normVT,yval)\n",
    "m=X.shape[0]\n",
    "fig, ax = plt.subplots(figsize=(12,8))\n",
    "ax.plot(range(m),error_train1)\n",
    "ax.plot(range(m),error_val1)"
   ]
  },
  {
   "cell_type": "code",
   "execution_count": 198,
   "metadata": {},
   "outputs": [
    {
     "name": "stdout",
     "output_type": "stream",
     "text": [
      "1\n",
      "here\n",
      "[  2.82798277e-18   1.15181899e-01   1.16376089e+02   1.39443054e+02\n",
      "   1.26882655e+02   1.18273534e+02   1.01456023e+02   9.44278847e+01\n",
      "   8.74739488e+01   8.02436629e+01   7.33627365e+01   7.25694477e+01]\n"
     ]
    },
    {
     "data": {
      "image/png": "[encoded data removed]",
      "text/plain": [
       "<matplotlib.figure.Figure at 0x14777550>"
      ]
     },
     "metadata": {},
     "output_type": "display_data"
    }
   ],
   "source": [
    "learning_rate=500\n",
    "X_normPX, muPX, sigmaPX, X_normPT, muPT, sigmaPT, X_normVT, muVT, sigmaVT=poly_reg(params,X,y,Xtest,ytest,Xval,yval,8)\n",
    "X_norm,muX,sigmaX=normalize(X)\n",
    "X.shape\n",
    "X2=X.ravel()\n",
    "X_poly=poly(X,8)\n",
    "paramsP=np.zeros((X_poly.shape[1]+1,1))\n",
    "theta1,error_train1,error_val1=learningCurve(lin_gradient,paramsP,X_normPX,y,learning_rate,X_normVT,yval)\n",
    "print('here')\n",
    "#theta1=trainLinearReg(X_poly,y,learning_rate)\n",
    "fig, ax = plt.subplots(figsize=(12,8))\n",
    "bla=np.dot((np.insert(X_normPX,0,values=np.ones(X_poly.shape[0]),axis=1)),theta1)\n",
    "ax.scatter(X,y)\n",
    "#print(type(X),type(bla),np.sort(X),np.sort(bla),np.sort(X)==X)\n",
    "ax.scatter(X,bla,color='r')\n",
    "print(error_train1)"
   ]
  },
  {
   "cell_type": "code",
   "execution_count": 248,
   "metadata": {},
   "outputs": [
    {
     "name": "stdout",
     "output_type": "stream",
     "text": [
      "1\n",
      "0.0782365610309 564.534726289\n",
      "7.55721654023 355.378379594\n",
      "15.8675868317 349.911477661\n",
      "25.8390795218 342.96438804\n",
      "37.4975002758 346.942787127\n",
      "50.6659612232 347.048434007\n",
      "64.5155430157 348.923747715\n",
      "78.5660290236 351.58600904\n",
      "93.2217801714 356.109638892\n",
      "107.795278957 361.592115154\n",
      "122.200588361 367.227819444\n",
      "136.579431428 374.010207023\n",
      "150.79669038 381.282347991\n",
      "164.601398066 389.006260083\n",
      "178.311843679 396.84444582\n",
      "191.804080222 404.836725643\n",
      "205.102069044 412.995413018\n",
      "217.982782841 421.152661135\n",
      "230.572221157 429.338615308\n",
      "242.848046192 437.501894168\n",
      "257.540027306 447.559510102\n",
      "269.234246847 455.521315933\n",
      "280.665269779 463.53371008\n",
      "291.799493348 471.450178813\n",
      "302.647248772 479.26346519\n",
      "313.220269558 486.969562575\n",
      "323.524978978 494.559243941\n",
      "333.582598688 502.044509193\n",
      "343.396725229 509.413531144\n",
      "352.94661077 516.589556838\n",
      "362.416806747 524.006341337\n",
      "371.562913664 531.035192922\n",
      "380.501150725 537.947905795\n",
      "389.151381032 544.72703696\n",
      "397.690466988 551.403909552\n",
      "406.026134965 557.969411063\n",
      "414.555108489 564.344697863\n",
      "422.512194375 570.648391196\n",
      "[  7.82365610e-02   7.55721654e+00   1.58675868e+01   2.58390795e+01\n",
      "   3.74975003e+01   5.06659612e+01   6.45155430e+01   7.85660290e+01\n",
      "   9.32217802e+01   1.07795279e+02   1.22200588e+02   1.36579431e+02\n",
      "   1.50796690e+02   1.64601398e+02   1.78311844e+02   1.91804080e+02\n",
      "   2.05102069e+02   2.17982783e+02   2.30572221e+02   2.42848046e+02\n",
      "   2.57540027e+02   2.69234247e+02   2.80665270e+02   2.91799493e+02\n",
      "   3.02647249e+02   3.13220270e+02   3.23524979e+02   3.33582599e+02\n",
      "   3.43396725e+02   3.52946611e+02   3.62416807e+02   3.71562914e+02\n",
      "   3.80501151e+02   3.89151381e+02   3.97690467e+02   4.06026135e+02\n",
      "   4.14555108e+02   4.22512194e+02] [ 564.53472629  355.37837959  349.91147766  342.96438804  346.94278713\n",
      "  347.04843401  348.92374772  351.58600904  356.10963889  361.59211515\n",
      "  367.22781944  374.01020702  381.28234799  389.00626008  396.84444582\n",
      "  404.83672564  412.99541302  421.15266113  429.33861531  437.50189417\n",
      "  447.5595101   455.52131593  463.53371008  471.45017881  479.26346519\n",
      "  486.96956257  494.55924394  502.04450919  509.41353114  516.58955684\n",
      "  524.00634134  531.03519292  537.94790579  544.72703696  551.40390955\n",
      "  557.96941106  564.34469786  570.6483912 ]\n"
     ]
    },
    {
     "data": {
      "text/plain": [
       "[<matplotlib.lines.Line2D at 0x17be9cf8>]"
      ]
     },
     "execution_count": 248,
     "metadata": {},
     "output_type": "execute_result"
    },
    {
     "data": {
      "image/png": "[encoded data removed]",
      "text/plain": [
       "<matplotlib.figure.Figure at 0x16ffc3c8>"
      ]
     },
     "metadata": {},
     "output_type": "display_data"
    }
   ],
   "source": [
    "X_normPX, muPX, sigmaPX, X_normPT, muPT, sigmaPT, X_normVT, muVT, sigmaVT=poly_reg(params,X,y,Xtest,ytest,Xval,yval,8)\n",
    "X_norm,muX,sigmaX=normalize(X)\n",
    "X2=X.ravel()\n",
    "X_poly=poly(X,8)\n",
    "paramsP=np.zeros((X_poly.shape[1]+1,1))\n",
    "answerT=np.zeros(len(range(0,38)))\n",
    "answerV=np.zeros(len(range(0,38)))\n",
    "for i in range(0,38):\n",
    "    m1=X.shape[0]\n",
    "    m2=Xval.shape[0]\n",
    "    learning_rate=i/2\n",
    "    theta1,error_train1,error_val1=learningCurve(lin_gradient,paramsP,X_normPX,y,learning_rate,X_normVT,yval)\n",
    "    #answerT[i]=np.sum(np.sum((np.dot(np.insert(X_normPX,0,values=np.ones(X_poly.shape[0]),axis=1),theta1)-y)**2)/(2*m1))\n",
    "    #answerV[i]=np.sum((np.dot(np.insert(X_normVT,0,values=np.ones(X_normVT.shape[0]),axis=1),theta1)-yval)**2)/(2*m2)\n",
    "    answerT[i]=np.sum(error_train1)\n",
    "    answerV[i]=np.sum(error_val1)\n",
    "    print(answerT[i],answerV[i])\n",
    "    #print(answerT,answerV)\n",
    "\n",
    "theta1,error_train1,error_val1=learningCurve(lin_gradient,paramsP,X_normPX,y,learning_rate,X_normVT,yval)\n",
    "#theta1=trainLinearReg(X_poly,y,learning_rate)\n",
    "fig, ax = plt.subplots(figsize=(12,8))\n",
    "#bla=np.dot((np.insert(X_normPX,0,values=np.ones(X_poly.shape[0]),axis=1)),theta1)\n",
    "#ax.scatter(X,y)\n",
    "#print(type(X),type(bla),np.sort(X),np.sort(bla),np.sort(X)==X)\n",
    "print(answerT,answerV)\n",
    "ax.plot(range(0,38),answerT,color='b')\n",
    "ax.plot(range(0,38),answerV,color='r')"
   ]
  }
 ],
 "metadata": {
  "kernelspec": {
   "display_name": "Python 3",
   "language": "python",
   "name": "python3"
  },
  "language_info": {
   "codemirror_mode": {
    "name": "ipython",
    "version": 3
   },
   "file_extension": ".py",
   "mimetype": "text/x-python",
   "name": "python",
   "nbconvert_exporter": "python",
   "pygments_lexer": "ipython3",
   "version": "3.6.1"
  }
 },
 "nbformat": 4,
 "nbformat_minor": 2
}
